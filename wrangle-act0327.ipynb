{
 "cells": [
  {
   "cell_type": "markdown",
   "metadata": {},
   "source": [
    "# Data Wrangling project: @dog_rates tweet data"
   ]
  },
  {
   "cell_type": "code",
   "execution_count": 1,
   "metadata": {},
   "outputs": [],
   "source": [
    "import pandas as pd\n",
    "import numpy as np\n",
    "import requests\n",
    "import tweepy\n",
    "import json\n",
    "from timeit import default_timer as timer\n",
    "import datetime\n",
    "import matplotlib.pyplot as plt\n",
    "import seaborn as sns\n",
    "%matplotlib inline"
   ]
  },
  {
   "cell_type": "markdown",
   "metadata": {},
   "source": [
    "## Gathering\n",
    "\n",
    "I first must import all necessary data."
   ]
  },
  {
   "cell_type": "markdown",
   "metadata": {},
   "source": [
    "#### 1. Main tweet data .csv file\n",
    "This file is provided directly."
   ]
  },
  {
   "cell_type": "code",
   "execution_count": 2,
   "metadata": {},
   "outputs": [],
   "source": [
    "maintweets_df = pd.read_csv('twitter-archive-enhanced.csv')"
   ]
  },
  {
   "cell_type": "markdown",
   "metadata": {},
   "source": [
    "#### 2. Breed predictions .tsv file\n",
    "\n",
    "To be downloaded programatically from supplied url using `requests` library.\n",
    "\n",
    "Predictions of dog breed based on tweeted images."
   ]
  },
  {
   "cell_type": "code",
   "execution_count": 3,
   "metadata": {},
   "outputs": [
    {
     "data": {
      "text/plain": [
       "'I comment out the following lines to avoid downloading the file again'"
      ]
     },
     "execution_count": 3,
     "metadata": {},
     "output_type": "execute_result"
    }
   ],
   "source": [
    "url = 'https://d17h27t6h515a5.cloudfront.net/topher/2017/August/599fd2ad_image-predictions/image-predictions.tsv'\n",
    "'''I comment out the following lines to avoid downloading the file again'''\n",
    "#response = requests.get(url)\n",
    "#with open('image-predictions.tsv', 'wb') as file:\n",
    "#    file.write(response.content)"
   ]
  },
  {
   "cell_type": "code",
   "execution_count": 4,
   "metadata": {},
   "outputs": [],
   "source": [
    "breedpredict_df = pd.read_csv('image-predictions.tsv', sep='\\t')"
   ]
  },
  {
   "cell_type": "markdown",
   "metadata": {},
   "source": [
    "#### 3. Additional data from Twitter in JSON format\n",
    "\n",
    "To be queried from Twitter API using `tweepy` library.\n",
    "\n",
    "I first demonstrate the code for extracting the data in JSON format and building a dataframe in the two cells below (I will hide my keys and tokens before submitting the file). Only four tweet IDs will be queried, so the resulting sample dataframe will have only four rows.\n",
    "\n",
    "\n",
    "In the cells following this demonstration I will import the data resulting from querying all 2356 tweet IDs from the main table. The `.txt` file containing this full JSON data is attached in the submission, and was produced with the same code shown here."
   ]
  },
  {
   "cell_type": "code",
   "execution_count": 5,
   "metadata": {},
   "outputs": [
    {
     "data": {
      "text/plain": [
       "[{'created_at': 'Tue Aug 01 16:23:56 +0000 2017',\n",
       "  'id': 892420643555336193,\n",
       "  'id_str': '892420643555336193',\n",
       "  'full_text': \"This is Phineas. He's a mystical boy. Only ever appears in the hole of a donut. 13/10 https://t.co/MgUWQ76dJU\",\n",
       "  'truncated': False,\n",
       "  'display_text_range': [0, 85],\n",
       "  'entities': {'hashtags': [],\n",
       "   'symbols': [],\n",
       "   'user_mentions': [],\n",
       "   'urls': [],\n",
       "   'media': [{'id': 892420639486877696,\n",
       "     'id_str': '892420639486877696',\n",
       "     'indices': [86, 109],\n",
       "     'media_url': 'http://pbs.twimg.com/media/DGKD1-bXoAAIAUK.jpg',\n",
       "     'media_url_https': 'https://pbs.twimg.com/media/DGKD1-bXoAAIAUK.jpg',\n",
       "     'url': 'https://t.co/MgUWQ76dJU',\n",
       "     'display_url': 'pic.twitter.com/MgUWQ76dJU',\n",
       "     'expanded_url': 'https://twitter.com/dog_rates/status/892420643555336193/photo/1',\n",
       "     'type': 'photo',\n",
       "     'sizes': {'thumb': {'w': 150, 'h': 150, 'resize': 'crop'},\n",
       "      'medium': {'w': 540, 'h': 528, 'resize': 'fit'},\n",
       "      'small': {'w': 540, 'h': 528, 'resize': 'fit'},\n",
       "      'large': {'w': 540, 'h': 528, 'resize': 'fit'}}}]},\n",
       "  'extended_entities': {'media': [{'id': 892420639486877696,\n",
       "     'id_str': '892420639486877696',\n",
       "     'indices': [86, 109],\n",
       "     'media_url': 'http://pbs.twimg.com/media/DGKD1-bXoAAIAUK.jpg',\n",
       "     'media_url_https': 'https://pbs.twimg.com/media/DGKD1-bXoAAIAUK.jpg',\n",
       "     'url': 'https://t.co/MgUWQ76dJU',\n",
       "     'display_url': 'pic.twitter.com/MgUWQ76dJU',\n",
       "     'expanded_url': 'https://twitter.com/dog_rates/status/892420643555336193/photo/1',\n",
       "     'type': 'photo',\n",
       "     'sizes': {'thumb': {'w': 150, 'h': 150, 'resize': 'crop'},\n",
       "      'medium': {'w': 540, 'h': 528, 'resize': 'fit'},\n",
       "      'small': {'w': 540, 'h': 528, 'resize': 'fit'},\n",
       "      'large': {'w': 540, 'h': 528, 'resize': 'fit'}}}]},\n",
       "  'source': '<a href=\"http://twitter.com/download/iphone\" rel=\"nofollow\">Twitter for iPhone</a>',\n",
       "  'in_reply_to_status_id': None,\n",
       "  'in_reply_to_status_id_str': None,\n",
       "  'in_reply_to_user_id': None,\n",
       "  'in_reply_to_user_id_str': None,\n",
       "  'in_reply_to_screen_name': None,\n",
       "  'user': {'id': 4196983835,\n",
       "   'id_str': '4196983835',\n",
       "   'name': 'WeRateDogs™',\n",
       "   'screen_name': 'dog_rates',\n",
       "   'location': '「 DM YOUR DOGS 」',\n",
       "   'description': 'Your Only Source For Professional Dog Ratings | Instagram and Facebook ➪ WeRateDogs partnerships@weratedogs.com',\n",
       "   'url': 'https://t.co/N7sNNHSfPq',\n",
       "   'entities': {'url': {'urls': [{'url': 'https://t.co/N7sNNHSfPq',\n",
       "       'expanded_url': 'http://weratedogs.com',\n",
       "       'display_url': 'weratedogs.com',\n",
       "       'indices': [0, 23]}]},\n",
       "    'description': {'urls': []}},\n",
       "   'protected': False,\n",
       "   'followers_count': 7819787,\n",
       "   'friends_count': 12,\n",
       "   'listed_count': 5964,\n",
       "   'created_at': 'Sun Nov 15 21:41:29 +0000 2015',\n",
       "   'favourites_count': 141099,\n",
       "   'utc_offset': None,\n",
       "   'time_zone': None,\n",
       "   'geo_enabled': True,\n",
       "   'verified': True,\n",
       "   'statuses_count': 9836,\n",
       "   'lang': 'en',\n",
       "   'contributors_enabled': False,\n",
       "   'is_translator': False,\n",
       "   'is_translation_enabled': False,\n",
       "   'profile_background_color': '000000',\n",
       "   'profile_background_image_url': 'http://abs.twimg.com/images/themes/theme1/bg.png',\n",
       "   'profile_background_image_url_https': 'https://abs.twimg.com/images/themes/theme1/bg.png',\n",
       "   'profile_background_tile': False,\n",
       "   'profile_image_url': 'http://pbs.twimg.com/profile_images/1080268745619189760/CyqCf_dA_normal.jpg',\n",
       "   'profile_image_url_https': 'https://pbs.twimg.com/profile_images/1080268745619189760/CyqCf_dA_normal.jpg',\n",
       "   'profile_banner_url': 'https://pbs.twimg.com/profile_banners/4196983835/1549474166',\n",
       "   'profile_link_color': 'F5ABB5',\n",
       "   'profile_sidebar_border_color': '000000',\n",
       "   'profile_sidebar_fill_color': '000000',\n",
       "   'profile_text_color': '000000',\n",
       "   'profile_use_background_image': False,\n",
       "   'has_extended_profile': False,\n",
       "   'default_profile': False,\n",
       "   'default_profile_image': False,\n",
       "   'following': False,\n",
       "   'follow_request_sent': False,\n",
       "   'notifications': False,\n",
       "   'translator_type': 'none'},\n",
       "  'geo': None,\n",
       "  'coordinates': None,\n",
       "  'place': None,\n",
       "  'contributors': None,\n",
       "  'is_quote_status': False,\n",
       "  'retweet_count': 8250,\n",
       "  'favorite_count': 37826,\n",
       "  'favorited': False,\n",
       "  'retweeted': False,\n",
       "  'possibly_sensitive': False,\n",
       "  'possibly_sensitive_appealable': False,\n",
       "  'lang': 'en'},\n",
       " {'created_at': 'Tue Aug 01 00:17:27 +0000 2017',\n",
       "  'id': 892177421306343426,\n",
       "  'id_str': '892177421306343426',\n",
       "  'full_text': \"This is Tilly. She's just checking pup on you. Hopes you're doing ok. If not, she's available for pats, snugs, boops, the whole bit. 13/10 https://t.co/0Xxu71qeIV\",\n",
       "  'truncated': False,\n",
       "  'display_text_range': [0, 138],\n",
       "  'entities': {'hashtags': [],\n",
       "   'symbols': [],\n",
       "   'user_mentions': [],\n",
       "   'urls': [],\n",
       "   'media': [{'id': 892177413194625024,\n",
       "     'id_str': '892177413194625024',\n",
       "     'indices': [139, 162],\n",
       "     'media_url': 'http://pbs.twimg.com/media/DGGmoV4XsAAUL6n.jpg',\n",
       "     'media_url_https': 'https://pbs.twimg.com/media/DGGmoV4XsAAUL6n.jpg',\n",
       "     'url': 'https://t.co/0Xxu71qeIV',\n",
       "     'display_url': 'pic.twitter.com/0Xxu71qeIV',\n",
       "     'expanded_url': 'https://twitter.com/dog_rates/status/892177421306343426/photo/1',\n",
       "     'type': 'photo',\n",
       "     'sizes': {'thumb': {'w': 150, 'h': 150, 'resize': 'crop'},\n",
       "      'medium': {'w': 1055, 'h': 1200, 'resize': 'fit'},\n",
       "      'small': {'w': 598, 'h': 680, 'resize': 'fit'},\n",
       "      'large': {'w': 1407, 'h': 1600, 'resize': 'fit'}}}]},\n",
       "  'extended_entities': {'media': [{'id': 892177413194625024,\n",
       "     'id_str': '892177413194625024',\n",
       "     'indices': [139, 162],\n",
       "     'media_url': 'http://pbs.twimg.com/media/DGGmoV4XsAAUL6n.jpg',\n",
       "     'media_url_https': 'https://pbs.twimg.com/media/DGGmoV4XsAAUL6n.jpg',\n",
       "     'url': 'https://t.co/0Xxu71qeIV',\n",
       "     'display_url': 'pic.twitter.com/0Xxu71qeIV',\n",
       "     'expanded_url': 'https://twitter.com/dog_rates/status/892177421306343426/photo/1',\n",
       "     'type': 'photo',\n",
       "     'sizes': {'thumb': {'w': 150, 'h': 150, 'resize': 'crop'},\n",
       "      'medium': {'w': 1055, 'h': 1200, 'resize': 'fit'},\n",
       "      'small': {'w': 598, 'h': 680, 'resize': 'fit'},\n",
       "      'large': {'w': 1407, 'h': 1600, 'resize': 'fit'}}}]},\n",
       "  'source': '<a href=\"http://twitter.com/download/iphone\" rel=\"nofollow\">Twitter for iPhone</a>',\n",
       "  'in_reply_to_status_id': None,\n",
       "  'in_reply_to_status_id_str': None,\n",
       "  'in_reply_to_user_id': None,\n",
       "  'in_reply_to_user_id_str': None,\n",
       "  'in_reply_to_screen_name': None,\n",
       "  'user': {'id': 4196983835,\n",
       "   'id_str': '4196983835',\n",
       "   'name': 'WeRateDogs™',\n",
       "   'screen_name': 'dog_rates',\n",
       "   'location': '「 DM YOUR DOGS 」',\n",
       "   'description': 'Your Only Source For Professional Dog Ratings | Instagram and Facebook ➪ WeRateDogs partnerships@weratedogs.com',\n",
       "   'url': 'https://t.co/N7sNNHSfPq',\n",
       "   'entities': {'url': {'urls': [{'url': 'https://t.co/N7sNNHSfPq',\n",
       "       'expanded_url': 'http://weratedogs.com',\n",
       "       'display_url': 'weratedogs.com',\n",
       "       'indices': [0, 23]}]},\n",
       "    'description': {'urls': []}},\n",
       "   'protected': False,\n",
       "   'followers_count': 7819787,\n",
       "   'friends_count': 12,\n",
       "   'listed_count': 5964,\n",
       "   'created_at': 'Sun Nov 15 21:41:29 +0000 2015',\n",
       "   'favourites_count': 141099,\n",
       "   'utc_offset': None,\n",
       "   'time_zone': None,\n",
       "   'geo_enabled': True,\n",
       "   'verified': True,\n",
       "   'statuses_count': 9836,\n",
       "   'lang': 'en',\n",
       "   'contributors_enabled': False,\n",
       "   'is_translator': False,\n",
       "   'is_translation_enabled': False,\n",
       "   'profile_background_color': '000000',\n",
       "   'profile_background_image_url': 'http://abs.twimg.com/images/themes/theme1/bg.png',\n",
       "   'profile_background_image_url_https': 'https://abs.twimg.com/images/themes/theme1/bg.png',\n",
       "   'profile_background_tile': False,\n",
       "   'profile_image_url': 'http://pbs.twimg.com/profile_images/1080268745619189760/CyqCf_dA_normal.jpg',\n",
       "   'profile_image_url_https': 'https://pbs.twimg.com/profile_images/1080268745619189760/CyqCf_dA_normal.jpg',\n",
       "   'profile_banner_url': 'https://pbs.twimg.com/profile_banners/4196983835/1549474166',\n",
       "   'profile_link_color': 'F5ABB5',\n",
       "   'profile_sidebar_border_color': '000000',\n",
       "   'profile_sidebar_fill_color': '000000',\n",
       "   'profile_text_color': '000000',\n",
       "   'profile_use_background_image': False,\n",
       "   'has_extended_profile': False,\n",
       "   'default_profile': False,\n",
       "   'default_profile_image': False,\n",
       "   'following': False,\n",
       "   'follow_request_sent': False,\n",
       "   'notifications': False,\n",
       "   'translator_type': 'none'},\n",
       "  'geo': None,\n",
       "  'coordinates': None,\n",
       "  'place': None,\n",
       "  'contributors': None,\n",
       "  'is_quote_status': False,\n",
       "  'retweet_count': 6094,\n",
       "  'favorite_count': 32503,\n",
       "  'favorited': False,\n",
       "  'retweeted': False,\n",
       "  'possibly_sensitive': False,\n",
       "  'possibly_sensitive_appealable': False,\n",
       "  'lang': 'en'}]"
      ]
     },
     "execution_count": 5,
     "metadata": {},
     "output_type": "execute_result"
    }
   ],
   "source": [
    "consumer_key = 'I use my own keys and tokens'\n",
    "consumer_secret = 'I use my own keys and tokens'\n",
    "access_token = 'I use my own keys and tokens'\n",
    "access_secret = 'I use my own keys and tokens'\n",
    "\n",
    "def extract_extended_data(consumer_key, consumer_secret, access_token, access_secret):\n",
    "    auth = tweepy.OAuthHandler(consumer_key, consumer_secret)\n",
    "    auth.set_access_token(access_token, access_secret)\n",
    "\n",
    "    api = tweepy.API(auth, wait_on_rate_limit=True)\n",
    "\n",
    "    tweet_ids = maintweets_df.tweet_id.values\n",
    "\n",
    "    # Query Twitter's API for JSON data for each tweet ID in the archive\n",
    "    count = 0\n",
    "    # Create fails dictionary in case I need to retrieve failed IDs (not required)\n",
    "    fails_dict = {}\n",
    "    # Create a list to contain all the JSON objects so that they can be loaded later\n",
    "    tweet_json_list = []\n",
    "    start = timer()\n",
    "    with open('tweet_json_sample.txt', 'w') as outfile:\n",
    "        '''I demonstrate with only two tweets to have a quick result'''\n",
    "        for tweet_id in tweet_ids[:2]:\n",
    "            count += 1\n",
    "            print(str(count) + \": \" + str(tweet_id))\n",
    "            try:\n",
    "                tweet = api.get_status(tweet_id, tweet_mode='extended')\n",
    "                print(\"Success\")\n",
    "                #Append each JSON to the list\n",
    "                tweet_json_list.append(tweet._json)\n",
    "            except tweepy.TweepError as e:\n",
    "                print(\"Fail\")\n",
    "                fails_dict[tweet_id] = e\n",
    "                pass\n",
    "        # Finally, dump the list as JSON to the file, indented for readability\n",
    "        json.dump(tweet_json_list, outfile, indent=4)\n",
    "    # Printing the time elapsed is not required either but it can be useful\n",
    "    end = timer()\n",
    "    print(str(end - start)[:4] + ' seconds.')\n",
    "\n",
    "'''the function is commented out to prevent it from failing to run with no keys:'''\n",
    "#extract_extended_data(consumer_key, consumer_secret, access_token, access_secret)\n",
    "\n",
    "'''Again this is a sample'''\n",
    "with open('tweet_json_sample.txt') as json_file:\n",
    "    extended_sample = json.load(json_file)\n",
    "extended_sample"
   ]
  },
  {
   "cell_type": "code",
   "execution_count": 6,
   "metadata": {},
   "outputs": [
    {
     "data": {
      "text/html": [
       "<div>\n",
       "<style scoped>\n",
       "    .dataframe tbody tr th:only-of-type {\n",
       "        vertical-align: middle;\n",
       "    }\n",
       "\n",
       "    .dataframe tbody tr th {\n",
       "        vertical-align: top;\n",
       "    }\n",
       "\n",
       "    .dataframe thead th {\n",
       "        text-align: right;\n",
       "    }\n",
       "</style>\n",
       "<table border=\"1\" class=\"dataframe\">\n",
       "  <thead>\n",
       "    <tr style=\"text-align: right;\">\n",
       "      <th></th>\n",
       "      <th>created_at</th>\n",
       "      <th>id</th>\n",
       "      <th>id_str</th>\n",
       "      <th>full_text</th>\n",
       "      <th>truncated</th>\n",
       "      <th>display_text_range</th>\n",
       "      <th>entities</th>\n",
       "      <th>extended_entities</th>\n",
       "      <th>source</th>\n",
       "      <th>in_reply_to_status_id</th>\n",
       "      <th>...</th>\n",
       "      <th>place</th>\n",
       "      <th>contributors</th>\n",
       "      <th>is_quote_status</th>\n",
       "      <th>retweet_count</th>\n",
       "      <th>favorite_count</th>\n",
       "      <th>favorited</th>\n",
       "      <th>retweeted</th>\n",
       "      <th>possibly_sensitive</th>\n",
       "      <th>possibly_sensitive_appealable</th>\n",
       "      <th>lang</th>\n",
       "    </tr>\n",
       "  </thead>\n",
       "  <tbody>\n",
       "    <tr>\n",
       "      <th>0</th>\n",
       "      <td>Tue Aug 01 16:23:56 +0000 2017</td>\n",
       "      <td>892420643555336193</td>\n",
       "      <td>892420643555336193</td>\n",
       "      <td>This is Phineas. He's a mystical boy. Only eve...</td>\n",
       "      <td>False</td>\n",
       "      <td>[0, 85]</td>\n",
       "      <td>{'hashtags': [], 'symbols': [], 'user_mentions...</td>\n",
       "      <td>{'media': [{'id': 892420639486877696, 'id_str'...</td>\n",
       "      <td>&lt;a href=\"http://twitter.com/download/iphone\" r...</td>\n",
       "      <td>None</td>\n",
       "      <td>...</td>\n",
       "      <td>None</td>\n",
       "      <td>None</td>\n",
       "      <td>False</td>\n",
       "      <td>8250</td>\n",
       "      <td>37826</td>\n",
       "      <td>False</td>\n",
       "      <td>False</td>\n",
       "      <td>False</td>\n",
       "      <td>False</td>\n",
       "      <td>en</td>\n",
       "    </tr>\n",
       "    <tr>\n",
       "      <th>1</th>\n",
       "      <td>Tue Aug 01 00:17:27 +0000 2017</td>\n",
       "      <td>892177421306343426</td>\n",
       "      <td>892177421306343426</td>\n",
       "      <td>This is Tilly. She's just checking pup on you....</td>\n",
       "      <td>False</td>\n",
       "      <td>[0, 138]</td>\n",
       "      <td>{'hashtags': [], 'symbols': [], 'user_mentions...</td>\n",
       "      <td>{'media': [{'id': 892177413194625024, 'id_str'...</td>\n",
       "      <td>&lt;a href=\"http://twitter.com/download/iphone\" r...</td>\n",
       "      <td>None</td>\n",
       "      <td>...</td>\n",
       "      <td>None</td>\n",
       "      <td>None</td>\n",
       "      <td>False</td>\n",
       "      <td>6094</td>\n",
       "      <td>32503</td>\n",
       "      <td>False</td>\n",
       "      <td>False</td>\n",
       "      <td>False</td>\n",
       "      <td>False</td>\n",
       "      <td>en</td>\n",
       "    </tr>\n",
       "  </tbody>\n",
       "</table>\n",
       "<p>2 rows × 27 columns</p>\n",
       "</div>"
      ],
      "text/plain": [
       "                       created_at                  id              id_str  \\\n",
       "0  Tue Aug 01 16:23:56 +0000 2017  892420643555336193  892420643555336193   \n",
       "1  Tue Aug 01 00:17:27 +0000 2017  892177421306343426  892177421306343426   \n",
       "\n",
       "                                           full_text  truncated  \\\n",
       "0  This is Phineas. He's a mystical boy. Only eve...      False   \n",
       "1  This is Tilly. She's just checking pup on you....      False   \n",
       "\n",
       "  display_text_range                                           entities  \\\n",
       "0            [0, 85]  {'hashtags': [], 'symbols': [], 'user_mentions...   \n",
       "1           [0, 138]  {'hashtags': [], 'symbols': [], 'user_mentions...   \n",
       "\n",
       "                                   extended_entities  \\\n",
       "0  {'media': [{'id': 892420639486877696, 'id_str'...   \n",
       "1  {'media': [{'id': 892177413194625024, 'id_str'...   \n",
       "\n",
       "                                              source in_reply_to_status_id  \\\n",
       "0  <a href=\"http://twitter.com/download/iphone\" r...                  None   \n",
       "1  <a href=\"http://twitter.com/download/iphone\" r...                  None   \n",
       "\n",
       "   ...  place contributors is_quote_status retweet_count favorite_count  \\\n",
       "0  ...   None         None           False          8250          37826   \n",
       "1  ...   None         None           False          6094          32503   \n",
       "\n",
       "  favorited retweeted possibly_sensitive possibly_sensitive_appealable  lang  \n",
       "0     False     False              False                         False    en  \n",
       "1     False     False              False                         False    en  \n",
       "\n",
       "[2 rows x 27 columns]"
      ]
     },
     "execution_count": 6,
     "metadata": {},
     "output_type": "execute_result"
    }
   ],
   "source": [
    "'''Sample dataframe'''\n",
    "# to find the columns for my dataframe, I need a list of all the keys in each JSON object\n",
    "extendedsample_df = pd.DataFrame(extended_sample, columns=list(extended_sample[0].keys()))\n",
    "extendedsample_df"
   ]
  },
  {
   "cell_type": "code",
   "execution_count": 7,
   "metadata": {
    "scrolled": true
   },
   "outputs": [],
   "source": [
    "# import the full JSON data\n",
    "with open('tweet_json_final.txt') as json_file:\n",
    "    extended_data = json.load(json_file)\n",
    "    \n",
    "extdf_cols = list(extended_data[0].keys())"
   ]
  },
  {
   "cell_type": "code",
   "execution_count": 8,
   "metadata": {},
   "outputs": [],
   "source": [
    "# make a dataframe\n",
    "extendedinfo_df = pd.DataFrame(extended_data, columns=extdf_cols)\n",
    "#extendedinfo_df.head(3)"
   ]
  },
  {
   "cell_type": "markdown",
   "metadata": {},
   "source": [
    "## Assessing"
   ]
  },
  {
   "cell_type": "markdown",
   "metadata": {},
   "source": [
    "Main tweets table"
   ]
  },
  {
   "cell_type": "code",
   "execution_count": 9,
   "metadata": {},
   "outputs": [
    {
     "data": {
      "text/html": [
       "<div>\n",
       "<style scoped>\n",
       "    .dataframe tbody tr th:only-of-type {\n",
       "        vertical-align: middle;\n",
       "    }\n",
       "\n",
       "    .dataframe tbody tr th {\n",
       "        vertical-align: top;\n",
       "    }\n",
       "\n",
       "    .dataframe thead th {\n",
       "        text-align: right;\n",
       "    }\n",
       "</style>\n",
       "<table border=\"1\" class=\"dataframe\">\n",
       "  <thead>\n",
       "    <tr style=\"text-align: right;\">\n",
       "      <th></th>\n",
       "      <th>tweet_id</th>\n",
       "      <th>in_reply_to_status_id</th>\n",
       "      <th>in_reply_to_user_id</th>\n",
       "      <th>timestamp</th>\n",
       "      <th>source</th>\n",
       "      <th>text</th>\n",
       "      <th>retweeted_status_id</th>\n",
       "      <th>retweeted_status_user_id</th>\n",
       "      <th>retweeted_status_timestamp</th>\n",
       "      <th>expanded_urls</th>\n",
       "      <th>rating_numerator</th>\n",
       "      <th>rating_denominator</th>\n",
       "      <th>name</th>\n",
       "      <th>doggo</th>\n",
       "      <th>floofer</th>\n",
       "      <th>pupper</th>\n",
       "      <th>puppo</th>\n",
       "    </tr>\n",
       "  </thead>\n",
       "  <tbody>\n",
       "    <tr>\n",
       "      <th>626</th>\n",
       "      <td>795076730285391872</td>\n",
       "      <td>NaN</td>\n",
       "      <td>NaN</td>\n",
       "      <td>2016-11-06 01:33:58 +0000</td>\n",
       "      <td>&lt;a href=\"http://twitter.com/download/iphone\" r...</td>\n",
       "      <td>This is Bailey. She loves going down slides bu...</td>\n",
       "      <td>NaN</td>\n",
       "      <td>NaN</td>\n",
       "      <td>NaN</td>\n",
       "      <td>https://twitter.com/dog_rates/status/795076730...</td>\n",
       "      <td>11</td>\n",
       "      <td>10</td>\n",
       "      <td>Bailey</td>\n",
       "      <td>None</td>\n",
       "      <td>None</td>\n",
       "      <td>None</td>\n",
       "      <td>None</td>\n",
       "    </tr>\n",
       "    <tr>\n",
       "      <th>2263</th>\n",
       "      <td>667544320556335104</td>\n",
       "      <td>NaN</td>\n",
       "      <td>NaN</td>\n",
       "      <td>2015-11-20 03:25:43 +0000</td>\n",
       "      <td>&lt;a href=\"http://twitter.com\" rel=\"nofollow\"&gt;Tw...</td>\n",
       "      <td>This is Kial. Kial is either wearing a cape, w...</td>\n",
       "      <td>NaN</td>\n",
       "      <td>NaN</td>\n",
       "      <td>NaN</td>\n",
       "      <td>https://twitter.com/dog_rates/status/667544320...</td>\n",
       "      <td>10</td>\n",
       "      <td>10</td>\n",
       "      <td>Kial</td>\n",
       "      <td>None</td>\n",
       "      <td>None</td>\n",
       "      <td>None</td>\n",
       "      <td>None</td>\n",
       "    </tr>\n",
       "    <tr>\n",
       "      <th>216</th>\n",
       "      <td>850753642995093505</td>\n",
       "      <td>NaN</td>\n",
       "      <td>NaN</td>\n",
       "      <td>2017-04-08 16:54:09 +0000</td>\n",
       "      <td>&lt;a href=\"http://twitter.com/download/iphone\" r...</td>\n",
       "      <td>This is Kyle. He made a joke about your shoes,...</td>\n",
       "      <td>NaN</td>\n",
       "      <td>NaN</td>\n",
       "      <td>NaN</td>\n",
       "      <td>https://twitter.com/dog_rates/status/850753642...</td>\n",
       "      <td>11</td>\n",
       "      <td>10</td>\n",
       "      <td>Kyle</td>\n",
       "      <td>None</td>\n",
       "      <td>None</td>\n",
       "      <td>None</td>\n",
       "      <td>None</td>\n",
       "    </tr>\n",
       "    <tr>\n",
       "      <th>1199</th>\n",
       "      <td>716791146589110272</td>\n",
       "      <td>NaN</td>\n",
       "      <td>NaN</td>\n",
       "      <td>2016-04-04 00:55:01 +0000</td>\n",
       "      <td>&lt;a href=\"http://twitter.com/download/iphone\" r...</td>\n",
       "      <td>Meet Jennifur. She's supposed to be navigating...</td>\n",
       "      <td>NaN</td>\n",
       "      <td>NaN</td>\n",
       "      <td>NaN</td>\n",
       "      <td>https://twitter.com/dog_rates/status/716791146...</td>\n",
       "      <td>11</td>\n",
       "      <td>10</td>\n",
       "      <td>Jennifur</td>\n",
       "      <td>None</td>\n",
       "      <td>None</td>\n",
       "      <td>None</td>\n",
       "      <td>None</td>\n",
       "    </tr>\n",
       "  </tbody>\n",
       "</table>\n",
       "</div>"
      ],
      "text/plain": [
       "                tweet_id  in_reply_to_status_id  in_reply_to_user_id  \\\n",
       "626   795076730285391872                    NaN                  NaN   \n",
       "2263  667544320556335104                    NaN                  NaN   \n",
       "216   850753642995093505                    NaN                  NaN   \n",
       "1199  716791146589110272                    NaN                  NaN   \n",
       "\n",
       "                      timestamp  \\\n",
       "626   2016-11-06 01:33:58 +0000   \n",
       "2263  2015-11-20 03:25:43 +0000   \n",
       "216   2017-04-08 16:54:09 +0000   \n",
       "1199  2016-04-04 00:55:01 +0000   \n",
       "\n",
       "                                                 source  \\\n",
       "626   <a href=\"http://twitter.com/download/iphone\" r...   \n",
       "2263  <a href=\"http://twitter.com\" rel=\"nofollow\">Tw...   \n",
       "216   <a href=\"http://twitter.com/download/iphone\" r...   \n",
       "1199  <a href=\"http://twitter.com/download/iphone\" r...   \n",
       "\n",
       "                                                   text  retweeted_status_id  \\\n",
       "626   This is Bailey. She loves going down slides bu...                  NaN   \n",
       "2263  This is Kial. Kial is either wearing a cape, w...                  NaN   \n",
       "216   This is Kyle. He made a joke about your shoes,...                  NaN   \n",
       "1199  Meet Jennifur. She's supposed to be navigating...                  NaN   \n",
       "\n",
       "      retweeted_status_user_id retweeted_status_timestamp  \\\n",
       "626                        NaN                        NaN   \n",
       "2263                       NaN                        NaN   \n",
       "216                        NaN                        NaN   \n",
       "1199                       NaN                        NaN   \n",
       "\n",
       "                                          expanded_urls  rating_numerator  \\\n",
       "626   https://twitter.com/dog_rates/status/795076730...                11   \n",
       "2263  https://twitter.com/dog_rates/status/667544320...                10   \n",
       "216   https://twitter.com/dog_rates/status/850753642...                11   \n",
       "1199  https://twitter.com/dog_rates/status/716791146...                11   \n",
       "\n",
       "      rating_denominator      name doggo floofer pupper puppo  \n",
       "626                   10    Bailey  None    None   None  None  \n",
       "2263                  10      Kial  None    None   None  None  \n",
       "216                   10      Kyle  None    None   None  None  \n",
       "1199                  10  Jennifur  None    None   None  None  "
      ]
     },
     "execution_count": 9,
     "metadata": {},
     "output_type": "execute_result"
    }
   ],
   "source": [
    "maintweets_df.sample(4)"
   ]
  },
  {
   "cell_type": "code",
   "execution_count": 10,
   "metadata": {},
   "outputs": [
    {
     "name": "stdout",
     "output_type": "stream",
     "text": [
      "<class 'pandas.core.frame.DataFrame'>\n",
      "RangeIndex: 2356 entries, 0 to 2355\n",
      "Data columns (total 17 columns):\n",
      "tweet_id                      2356 non-null int64\n",
      "in_reply_to_status_id         78 non-null float64\n",
      "in_reply_to_user_id           78 non-null float64\n",
      "timestamp                     2356 non-null object\n",
      "source                        2356 non-null object\n",
      "text                          2356 non-null object\n",
      "retweeted_status_id           181 non-null float64\n",
      "retweeted_status_user_id      181 non-null float64\n",
      "retweeted_status_timestamp    181 non-null object\n",
      "expanded_urls                 2297 non-null object\n",
      "rating_numerator              2356 non-null int64\n",
      "rating_denominator            2356 non-null int64\n",
      "name                          2356 non-null object\n",
      "doggo                         2356 non-null object\n",
      "floofer                       2356 non-null object\n",
      "pupper                        2356 non-null object\n",
      "puppo                         2356 non-null object\n",
      "dtypes: float64(4), int64(3), object(10)\n",
      "memory usage: 313.0+ KB\n"
     ]
    }
   ],
   "source": [
    "maintweets_df.info()"
   ]
  },
  {
   "cell_type": "code",
   "execution_count": 11,
   "metadata": {},
   "outputs": [
    {
     "data": {
      "text/plain": [
       "167"
      ]
     },
     "execution_count": 11,
     "metadata": {},
     "output_type": "execute_result"
    }
   ],
   "source": [
    "# Are the tweet texts complete? What is the maximum length?\n",
    "maintweets_df.text.str.len().max()"
   ]
  },
  {
   "cell_type": "code",
   "execution_count": 12,
   "metadata": {},
   "outputs": [
    {
     "data": {
      "text/html": [
       "<div>\n",
       "<style scoped>\n",
       "    .dataframe tbody tr th:only-of-type {\n",
       "        vertical-align: middle;\n",
       "    }\n",
       "\n",
       "    .dataframe tbody tr th {\n",
       "        vertical-align: top;\n",
       "    }\n",
       "\n",
       "    .dataframe thead th {\n",
       "        text-align: right;\n",
       "    }\n",
       "</style>\n",
       "<table border=\"1\" class=\"dataframe\">\n",
       "  <thead>\n",
       "    <tr style=\"text-align: right;\">\n",
       "      <th></th>\n",
       "      <th>tweet_id</th>\n",
       "      <th>in_reply_to_status_id</th>\n",
       "      <th>in_reply_to_user_id</th>\n",
       "      <th>timestamp</th>\n",
       "      <th>source</th>\n",
       "      <th>text</th>\n",
       "      <th>retweeted_status_id</th>\n",
       "      <th>retweeted_status_user_id</th>\n",
       "      <th>retweeted_status_timestamp</th>\n",
       "      <th>expanded_urls</th>\n",
       "      <th>rating_numerator</th>\n",
       "      <th>rating_denominator</th>\n",
       "      <th>name</th>\n",
       "      <th>doggo</th>\n",
       "      <th>floofer</th>\n",
       "      <th>pupper</th>\n",
       "      <th>puppo</th>\n",
       "    </tr>\n",
       "  </thead>\n",
       "  <tbody>\n",
       "    <tr>\n",
       "      <th>815</th>\n",
       "      <td>771004394259247104</td>\n",
       "      <td>NaN</td>\n",
       "      <td>NaN</td>\n",
       "      <td>2016-08-31 15:19:06 +0000</td>\n",
       "      <td>&lt;a href=\"http://twitter.com/download/iphone\" r...</td>\n",
       "      <td>RT @katieornah: @dog_rates learning a lot at c...</td>\n",
       "      <td>7.710021e+17</td>\n",
       "      <td>1.732729e+09</td>\n",
       "      <td>2016-08-31 15:10:07 +0000</td>\n",
       "      <td>https://twitter.com/katieornah/status/77100213...</td>\n",
       "      <td>12</td>\n",
       "      <td>10</td>\n",
       "      <td>None</td>\n",
       "      <td>None</td>\n",
       "      <td>None</td>\n",
       "      <td>pupper</td>\n",
       "      <td>None</td>\n",
       "    </tr>\n",
       "    <tr>\n",
       "      <th>273</th>\n",
       "      <td>840728873075638272</td>\n",
       "      <td>NaN</td>\n",
       "      <td>NaN</td>\n",
       "      <td>2017-03-12 00:59:17 +0000</td>\n",
       "      <td>&lt;a href=\"http://twitter.com/download/iphone\" r...</td>\n",
       "      <td>RT @dog_rates: This is Pipsy. He is a fluffbal...</td>\n",
       "      <td>6.671522e+17</td>\n",
       "      <td>4.196984e+09</td>\n",
       "      <td>2015-11-19 01:27:25 +0000</td>\n",
       "      <td>https://twitter.com/dog_rates/status/667152164...</td>\n",
       "      <td>12</td>\n",
       "      <td>10</td>\n",
       "      <td>Pipsy</td>\n",
       "      <td>None</td>\n",
       "      <td>None</td>\n",
       "      <td>None</td>\n",
       "      <td>None</td>\n",
       "    </tr>\n",
       "    <tr>\n",
       "      <th>230</th>\n",
       "      <td>847978865427394560</td>\n",
       "      <td>NaN</td>\n",
       "      <td>NaN</td>\n",
       "      <td>2017-04-01 01:08:10 +0000</td>\n",
       "      <td>&lt;a href=\"http://twitter.com/download/iphone\" r...</td>\n",
       "      <td>RT @dog_rates: This is Charlie. He fell asleep...</td>\n",
       "      <td>8.323699e+17</td>\n",
       "      <td>4.196984e+09</td>\n",
       "      <td>2017-02-16 23:23:38 +0000</td>\n",
       "      <td>https://twitter.com/dog_rates/status/832369877...</td>\n",
       "      <td>11</td>\n",
       "      <td>10</td>\n",
       "      <td>Charlie</td>\n",
       "      <td>None</td>\n",
       "      <td>None</td>\n",
       "      <td>None</td>\n",
       "      <td>None</td>\n",
       "    </tr>\n",
       "    <tr>\n",
       "      <th>561</th>\n",
       "      <td>802624713319034886</td>\n",
       "      <td>NaN</td>\n",
       "      <td>NaN</td>\n",
       "      <td>2016-11-26 21:26:58 +0000</td>\n",
       "      <td>&lt;a href=\"http://twitter.com/download/iphone\" r...</td>\n",
       "      <td>RT @dog_rates: \"Yep... just as I suspected. Yo...</td>\n",
       "      <td>7.776842e+17</td>\n",
       "      <td>4.196984e+09</td>\n",
       "      <td>2016-09-19 01:42:24 +0000</td>\n",
       "      <td>https://twitter.com/dog_rates/status/777684233...</td>\n",
       "      <td>12</td>\n",
       "      <td>10</td>\n",
       "      <td>None</td>\n",
       "      <td>None</td>\n",
       "      <td>None</td>\n",
       "      <td>None</td>\n",
       "      <td>None</td>\n",
       "    </tr>\n",
       "    <tr>\n",
       "      <th>728</th>\n",
       "      <td>782021823840026624</td>\n",
       "      <td>NaN</td>\n",
       "      <td>NaN</td>\n",
       "      <td>2016-10-01 00:58:26 +0000</td>\n",
       "      <td>&lt;a href=\"http://twitter.com/download/iphone\" r...</td>\n",
       "      <td>RT @dog_rates: This is Harper. She scraped her...</td>\n",
       "      <td>7.076109e+17</td>\n",
       "      <td>4.196984e+09</td>\n",
       "      <td>2016-03-09 16:56:11 +0000</td>\n",
       "      <td>https://twitter.com/dog_rates/status/707610948...</td>\n",
       "      <td>12</td>\n",
       "      <td>10</td>\n",
       "      <td>Harper</td>\n",
       "      <td>None</td>\n",
       "      <td>None</td>\n",
       "      <td>None</td>\n",
       "      <td>None</td>\n",
       "    </tr>\n",
       "    <tr>\n",
       "      <th>182</th>\n",
       "      <td>856602993587888130</td>\n",
       "      <td>NaN</td>\n",
       "      <td>NaN</td>\n",
       "      <td>2017-04-24 20:17:23 +0000</td>\n",
       "      <td>&lt;a href=\"http://twitter.com/download/iphone\" r...</td>\n",
       "      <td>RT @dog_rates: This is Luna. It's her first ti...</td>\n",
       "      <td>8.447048e+17</td>\n",
       "      <td>4.196984e+09</td>\n",
       "      <td>2017-03-23 00:18:10 +0000</td>\n",
       "      <td>https://twitter.com/dog_rates/status/844704788...</td>\n",
       "      <td>13</td>\n",
       "      <td>10</td>\n",
       "      <td>Luna</td>\n",
       "      <td>None</td>\n",
       "      <td>None</td>\n",
       "      <td>None</td>\n",
       "      <td>None</td>\n",
       "    </tr>\n",
       "  </tbody>\n",
       "</table>\n",
       "</div>"
      ],
      "text/plain": [
       "               tweet_id  in_reply_to_status_id  in_reply_to_user_id  \\\n",
       "815  771004394259247104                    NaN                  NaN   \n",
       "273  840728873075638272                    NaN                  NaN   \n",
       "230  847978865427394560                    NaN                  NaN   \n",
       "561  802624713319034886                    NaN                  NaN   \n",
       "728  782021823840026624                    NaN                  NaN   \n",
       "182  856602993587888130                    NaN                  NaN   \n",
       "\n",
       "                     timestamp  \\\n",
       "815  2016-08-31 15:19:06 +0000   \n",
       "273  2017-03-12 00:59:17 +0000   \n",
       "230  2017-04-01 01:08:10 +0000   \n",
       "561  2016-11-26 21:26:58 +0000   \n",
       "728  2016-10-01 00:58:26 +0000   \n",
       "182  2017-04-24 20:17:23 +0000   \n",
       "\n",
       "                                                source  \\\n",
       "815  <a href=\"http://twitter.com/download/iphone\" r...   \n",
       "273  <a href=\"http://twitter.com/download/iphone\" r...   \n",
       "230  <a href=\"http://twitter.com/download/iphone\" r...   \n",
       "561  <a href=\"http://twitter.com/download/iphone\" r...   \n",
       "728  <a href=\"http://twitter.com/download/iphone\" r...   \n",
       "182  <a href=\"http://twitter.com/download/iphone\" r...   \n",
       "\n",
       "                                                  text  retweeted_status_id  \\\n",
       "815  RT @katieornah: @dog_rates learning a lot at c...         7.710021e+17   \n",
       "273  RT @dog_rates: This is Pipsy. He is a fluffbal...         6.671522e+17   \n",
       "230  RT @dog_rates: This is Charlie. He fell asleep...         8.323699e+17   \n",
       "561  RT @dog_rates: \"Yep... just as I suspected. Yo...         7.776842e+17   \n",
       "728  RT @dog_rates: This is Harper. She scraped her...         7.076109e+17   \n",
       "182  RT @dog_rates: This is Luna. It's her first ti...         8.447048e+17   \n",
       "\n",
       "     retweeted_status_user_id retweeted_status_timestamp  \\\n",
       "815              1.732729e+09  2016-08-31 15:10:07 +0000   \n",
       "273              4.196984e+09  2015-11-19 01:27:25 +0000   \n",
       "230              4.196984e+09  2017-02-16 23:23:38 +0000   \n",
       "561              4.196984e+09  2016-09-19 01:42:24 +0000   \n",
       "728              4.196984e+09  2016-03-09 16:56:11 +0000   \n",
       "182              4.196984e+09  2017-03-23 00:18:10 +0000   \n",
       "\n",
       "                                         expanded_urls  rating_numerator  \\\n",
       "815  https://twitter.com/katieornah/status/77100213...                12   \n",
       "273  https://twitter.com/dog_rates/status/667152164...                12   \n",
       "230  https://twitter.com/dog_rates/status/832369877...                11   \n",
       "561  https://twitter.com/dog_rates/status/777684233...                12   \n",
       "728  https://twitter.com/dog_rates/status/707610948...                12   \n",
       "182  https://twitter.com/dog_rates/status/844704788...                13   \n",
       "\n",
       "     rating_denominator     name doggo floofer  pupper puppo  \n",
       "815                  10     None  None    None  pupper  None  \n",
       "273                  10    Pipsy  None    None    None  None  \n",
       "230                  10  Charlie  None    None    None  None  \n",
       "561                  10     None  None    None    None  None  \n",
       "728                  10   Harper  None    None    None  None  \n",
       "182                  10     Luna  None    None    None  None  "
      ]
     },
     "execution_count": 12,
     "metadata": {},
     "output_type": "execute_result"
    }
   ],
   "source": [
    "# Make sure the rows with non-null values in *retweeted_status_user_id* are in fact retweets\n",
    "maintweets_df[maintweets_df.retweeted_status_id.notnull()].sample(6)"
   ]
  },
  {
   "cell_type": "code",
   "execution_count": 13,
   "metadata": {},
   "outputs": [
    {
     "data": {
      "text/plain": [
       "None      2099\n",
       "pupper     257\n",
       "Name: pupper, dtype: int64"
      ]
     },
     "execution_count": 13,
     "metadata": {},
     "output_type": "execute_result"
    }
   ],
   "source": [
    "# how many not 'None' in dog stages?\n",
    "maintweets_df.pupper.value_counts()"
   ]
  },
  {
   "cell_type": "code",
   "execution_count": 14,
   "metadata": {},
   "outputs": [
    {
     "data": {
      "text/plain": [
       "394"
      ]
     },
     "execution_count": 14,
     "metadata": {},
     "output_type": "execute_result"
    }
   ],
   "source": [
    "# how many not 'None' in dog stages?\n",
    "len(maintweets_df.query('doggo != \"None\"')) + len(\n",
    "    maintweets_df.query('floofer != \"None\"')) + len(\n",
    "    maintweets_df.query('pupper != \"None\"')) + len(maintweets_df.query('puppo != \"None\"'))"
   ]
  },
  {
   "cell_type": "code",
   "execution_count": 15,
   "metadata": {},
   "outputs": [
    {
     "data": {
      "text/plain": [
       "745"
      ]
     },
     "execution_count": 15,
     "metadata": {},
     "output_type": "execute_result"
    }
   ],
   "source": [
    "# how many 'None' in name?\n",
    "len(maintweets_df.query('name == \"None\"'))"
   ]
  },
  {
   "cell_type": "code",
   "execution_count": 16,
   "metadata": {},
   "outputs": [
    {
     "data": {
      "text/plain": [
       "None            745\n",
       "a                55\n",
       "Charlie          12\n",
       "Oliver           11\n",
       "Cooper           11\n",
       "Lucy             11\n",
       "Penny            10\n",
       "Tucker           10\n",
       "Lola             10\n",
       "Bo                9\n",
       "Winston           9\n",
       "Sadie             8\n",
       "the               8\n",
       "an                7\n",
       "Toby              7\n",
       "Daisy             7\n",
       "Bailey            7\n",
       "Buddy             7\n",
       "Milo              6\n",
       "Jack              6\n",
       "Leo               6\n",
       "Bella             6\n",
       "Scout             6\n",
       "Rusty             6\n",
       "Dave              6\n",
       "Oscar             6\n",
       "Jax               6\n",
       "Koda              6\n",
       "Stanley           6\n",
       "Chester           5\n",
       "               ... \n",
       "Ron               1\n",
       "Crimson           1\n",
       "Jeffrie           1\n",
       "Shadoe            1\n",
       "Ember             1\n",
       "Daniel            1\n",
       "unacceptable      1\n",
       "Keet              1\n",
       "Chase             1\n",
       "Smiley            1\n",
       "Ginger            1\n",
       "Grey              1\n",
       "Jeffri            1\n",
       "Venti             1\n",
       "Spark             1\n",
       "Pepper            1\n",
       "Hazel             1\n",
       "Burt              1\n",
       "Banjo             1\n",
       "Ben               1\n",
       "Ulysses           1\n",
       "Pip               1\n",
       "Rudy              1\n",
       "Sonny             1\n",
       "Grizzwald         1\n",
       "Juckson           1\n",
       "Millie            1\n",
       "William           1\n",
       "Caryl             1\n",
       "Josep             1\n",
       "Name: name, Length: 957, dtype: int64"
      ]
     },
     "execution_count": 16,
     "metadata": {},
     "output_type": "execute_result"
    }
   ],
   "source": [
    "maintweets_df.name.value_counts()"
   ]
  },
  {
   "cell_type": "code",
   "execution_count": 17,
   "metadata": {},
   "outputs": [
    {
     "data": {
      "text/plain": [
       "109"
      ]
     },
     "execution_count": 17,
     "metadata": {},
     "output_type": "execute_result"
    }
   ],
   "source": [
    "# how many possibly wrong names?\n",
    "len(maintweets_df[maintweets_df.name.str.islower()])"
   ]
  },
  {
   "cell_type": "code",
   "execution_count": 18,
   "metadata": {},
   "outputs": [
    {
     "data": {
      "text/plain": [
       "a               55\n",
       "the              8\n",
       "an               7\n",
       "very             5\n",
       "quite            4\n",
       "just             4\n",
       "one              4\n",
       "actually         2\n",
       "not              2\n",
       "getting          2\n",
       "mad              2\n",
       "incredibly       1\n",
       "all              1\n",
       "space            1\n",
       "life             1\n",
       "light            1\n",
       "old              1\n",
       "such             1\n",
       "unacceptable     1\n",
       "this             1\n",
       "my               1\n",
       "his              1\n",
       "by               1\n",
       "infuriating      1\n",
       "officially       1\n",
       "Name: name, dtype: int64"
      ]
     },
     "execution_count": 18,
     "metadata": {},
     "output_type": "execute_result"
    }
   ],
   "source": [
    "# what are these lowercase names?\n",
    "maintweets_df[maintweets_df.name.str.islower()].name.value_counts()"
   ]
  },
  {
   "cell_type": "markdown",
   "metadata": {},
   "source": [
    "Breed predictions table"
   ]
  },
  {
   "cell_type": "code",
   "execution_count": 19,
   "metadata": {},
   "outputs": [
    {
     "data": {
      "text/html": [
       "<div>\n",
       "<style scoped>\n",
       "    .dataframe tbody tr th:only-of-type {\n",
       "        vertical-align: middle;\n",
       "    }\n",
       "\n",
       "    .dataframe tbody tr th {\n",
       "        vertical-align: top;\n",
       "    }\n",
       "\n",
       "    .dataframe thead th {\n",
       "        text-align: right;\n",
       "    }\n",
       "</style>\n",
       "<table border=\"1\" class=\"dataframe\">\n",
       "  <thead>\n",
       "    <tr style=\"text-align: right;\">\n",
       "      <th></th>\n",
       "      <th>tweet_id</th>\n",
       "      <th>jpg_url</th>\n",
       "      <th>img_num</th>\n",
       "      <th>p1</th>\n",
       "      <th>p1_conf</th>\n",
       "      <th>p1_dog</th>\n",
       "      <th>p2</th>\n",
       "      <th>p2_conf</th>\n",
       "      <th>p2_dog</th>\n",
       "      <th>p3</th>\n",
       "      <th>p3_conf</th>\n",
       "      <th>p3_dog</th>\n",
       "    </tr>\n",
       "  </thead>\n",
       "  <tbody>\n",
       "    <tr>\n",
       "      <th>1988</th>\n",
       "      <td>872820683541237760</td>\n",
       "      <td>https://pbs.twimg.com/media/DBzhx0PWAAEhl0E.jpg</td>\n",
       "      <td>3</td>\n",
       "      <td>pug</td>\n",
       "      <td>0.999120</td>\n",
       "      <td>True</td>\n",
       "      <td>French_bulldog</td>\n",
       "      <td>0.000552</td>\n",
       "      <td>True</td>\n",
       "      <td>bull_mastiff</td>\n",
       "      <td>0.000073</td>\n",
       "      <td>True</td>\n",
       "    </tr>\n",
       "    <tr>\n",
       "      <th>122</th>\n",
       "      <td>668221241640230912</td>\n",
       "      <td>https://pbs.twimg.com/media/CUX_rAyWsAYZOQ5.jpg</td>\n",
       "      <td>1</td>\n",
       "      <td>chow</td>\n",
       "      <td>0.395101</td>\n",
       "      <td>True</td>\n",
       "      <td>golden_retriever</td>\n",
       "      <td>0.372115</td>\n",
       "      <td>True</td>\n",
       "      <td>Labrador_retriever</td>\n",
       "      <td>0.148785</td>\n",
       "      <td>True</td>\n",
       "    </tr>\n",
       "    <tr>\n",
       "      <th>1453</th>\n",
       "      <td>776819012571455488</td>\n",
       "      <td>https://pbs.twimg.com/media/CW88XN4WsAAlo8r.jpg</td>\n",
       "      <td>3</td>\n",
       "      <td>Chihuahua</td>\n",
       "      <td>0.346545</td>\n",
       "      <td>True</td>\n",
       "      <td>dalmatian</td>\n",
       "      <td>0.166246</td>\n",
       "      <td>True</td>\n",
       "      <td>toy_terrier</td>\n",
       "      <td>0.117502</td>\n",
       "      <td>True</td>\n",
       "    </tr>\n",
       "    <tr>\n",
       "      <th>534</th>\n",
       "      <td>676936541936185344</td>\n",
       "      <td>https://pbs.twimg.com/media/CWT2MUgWIAECWig.jpg</td>\n",
       "      <td>1</td>\n",
       "      <td>Chesapeake_Bay_retriever</td>\n",
       "      <td>0.545286</td>\n",
       "      <td>True</td>\n",
       "      <td>Norwegian_elkhound</td>\n",
       "      <td>0.081482</td>\n",
       "      <td>True</td>\n",
       "      <td>space_heater</td>\n",
       "      <td>0.047391</td>\n",
       "      <td>False</td>\n",
       "    </tr>\n",
       "  </tbody>\n",
       "</table>\n",
       "</div>"
      ],
      "text/plain": [
       "                tweet_id                                          jpg_url  \\\n",
       "1988  872820683541237760  https://pbs.twimg.com/media/DBzhx0PWAAEhl0E.jpg   \n",
       "122   668221241640230912  https://pbs.twimg.com/media/CUX_rAyWsAYZOQ5.jpg   \n",
       "1453  776819012571455488  https://pbs.twimg.com/media/CW88XN4WsAAlo8r.jpg   \n",
       "534   676936541936185344  https://pbs.twimg.com/media/CWT2MUgWIAECWig.jpg   \n",
       "\n",
       "      img_num                        p1   p1_conf  p1_dog                  p2  \\\n",
       "1988        3                       pug  0.999120    True      French_bulldog   \n",
       "122         1                      chow  0.395101    True    golden_retriever   \n",
       "1453        3                 Chihuahua  0.346545    True           dalmatian   \n",
       "534         1  Chesapeake_Bay_retriever  0.545286    True  Norwegian_elkhound   \n",
       "\n",
       "       p2_conf  p2_dog                  p3   p3_conf  p3_dog  \n",
       "1988  0.000552    True        bull_mastiff  0.000073    True  \n",
       "122   0.372115    True  Labrador_retriever  0.148785    True  \n",
       "1453  0.166246    True         toy_terrier  0.117502    True  \n",
       "534   0.081482    True        space_heater  0.047391   False  "
      ]
     },
     "execution_count": 19,
     "metadata": {},
     "output_type": "execute_result"
    }
   ],
   "source": [
    "breedpredict_df.sample(4)"
   ]
  },
  {
   "cell_type": "code",
   "execution_count": 20,
   "metadata": {},
   "outputs": [
    {
     "name": "stdout",
     "output_type": "stream",
     "text": [
      "<class 'pandas.core.frame.DataFrame'>\n",
      "RangeIndex: 2075 entries, 0 to 2074\n",
      "Data columns (total 12 columns):\n",
      "tweet_id    2075 non-null int64\n",
      "jpg_url     2075 non-null object\n",
      "img_num     2075 non-null int64\n",
      "p1          2075 non-null object\n",
      "p1_conf     2075 non-null float64\n",
      "p1_dog      2075 non-null bool\n",
      "p2          2075 non-null object\n",
      "p2_conf     2075 non-null float64\n",
      "p2_dog      2075 non-null bool\n",
      "p3          2075 non-null object\n",
      "p3_conf     2075 non-null float64\n",
      "p3_dog      2075 non-null bool\n",
      "dtypes: bool(3), float64(3), int64(2), object(4)\n",
      "memory usage: 152.1+ KB\n"
     ]
    }
   ],
   "source": [
    "breedpredict_df.info()"
   ]
  },
  {
   "cell_type": "code",
   "execution_count": 21,
   "metadata": {},
   "outputs": [
    {
     "data": {
      "text/html": [
       "<div>\n",
       "<style scoped>\n",
       "    .dataframe tbody tr th:only-of-type {\n",
       "        vertical-align: middle;\n",
       "    }\n",
       "\n",
       "    .dataframe tbody tr th {\n",
       "        vertical-align: top;\n",
       "    }\n",
       "\n",
       "    .dataframe thead th {\n",
       "        text-align: right;\n",
       "    }\n",
       "</style>\n",
       "<table border=\"1\" class=\"dataframe\">\n",
       "  <thead>\n",
       "    <tr style=\"text-align: right;\">\n",
       "      <th></th>\n",
       "      <th>tweet_id</th>\n",
       "      <th>img_num</th>\n",
       "      <th>p1_conf</th>\n",
       "      <th>p2_conf</th>\n",
       "      <th>p3_conf</th>\n",
       "    </tr>\n",
       "  </thead>\n",
       "  <tbody>\n",
       "    <tr>\n",
       "      <th>count</th>\n",
       "      <td>2.075000e+03</td>\n",
       "      <td>2075.000000</td>\n",
       "      <td>2075.000000</td>\n",
       "      <td>2.075000e+03</td>\n",
       "      <td>2.075000e+03</td>\n",
       "    </tr>\n",
       "    <tr>\n",
       "      <th>mean</th>\n",
       "      <td>7.384514e+17</td>\n",
       "      <td>1.203855</td>\n",
       "      <td>0.594548</td>\n",
       "      <td>1.345886e-01</td>\n",
       "      <td>6.032417e-02</td>\n",
       "    </tr>\n",
       "    <tr>\n",
       "      <th>std</th>\n",
       "      <td>6.785203e+16</td>\n",
       "      <td>0.561875</td>\n",
       "      <td>0.271174</td>\n",
       "      <td>1.006657e-01</td>\n",
       "      <td>5.090593e-02</td>\n",
       "    </tr>\n",
       "    <tr>\n",
       "      <th>min</th>\n",
       "      <td>6.660209e+17</td>\n",
       "      <td>1.000000</td>\n",
       "      <td>0.044333</td>\n",
       "      <td>1.011300e-08</td>\n",
       "      <td>1.740170e-10</td>\n",
       "    </tr>\n",
       "    <tr>\n",
       "      <th>25%</th>\n",
       "      <td>6.764835e+17</td>\n",
       "      <td>1.000000</td>\n",
       "      <td>0.364412</td>\n",
       "      <td>5.388625e-02</td>\n",
       "      <td>1.622240e-02</td>\n",
       "    </tr>\n",
       "    <tr>\n",
       "      <th>50%</th>\n",
       "      <td>7.119988e+17</td>\n",
       "      <td>1.000000</td>\n",
       "      <td>0.588230</td>\n",
       "      <td>1.181810e-01</td>\n",
       "      <td>4.944380e-02</td>\n",
       "    </tr>\n",
       "    <tr>\n",
       "      <th>75%</th>\n",
       "      <td>7.932034e+17</td>\n",
       "      <td>1.000000</td>\n",
       "      <td>0.843855</td>\n",
       "      <td>1.955655e-01</td>\n",
       "      <td>9.180755e-02</td>\n",
       "    </tr>\n",
       "    <tr>\n",
       "      <th>max</th>\n",
       "      <td>8.924206e+17</td>\n",
       "      <td>4.000000</td>\n",
       "      <td>1.000000</td>\n",
       "      <td>4.880140e-01</td>\n",
       "      <td>2.734190e-01</td>\n",
       "    </tr>\n",
       "  </tbody>\n",
       "</table>\n",
       "</div>"
      ],
      "text/plain": [
       "           tweet_id      img_num      p1_conf       p2_conf       p3_conf\n",
       "count  2.075000e+03  2075.000000  2075.000000  2.075000e+03  2.075000e+03\n",
       "mean   7.384514e+17     1.203855     0.594548  1.345886e-01  6.032417e-02\n",
       "std    6.785203e+16     0.561875     0.271174  1.006657e-01  5.090593e-02\n",
       "min    6.660209e+17     1.000000     0.044333  1.011300e-08  1.740170e-10\n",
       "25%    6.764835e+17     1.000000     0.364412  5.388625e-02  1.622240e-02\n",
       "50%    7.119988e+17     1.000000     0.588230  1.181810e-01  4.944380e-02\n",
       "75%    7.932034e+17     1.000000     0.843855  1.955655e-01  9.180755e-02\n",
       "max    8.924206e+17     4.000000     1.000000  4.880140e-01  2.734190e-01"
      ]
     },
     "execution_count": 21,
     "metadata": {},
     "output_type": "execute_result"
    }
   ],
   "source": [
    "# look at mean confidence value for each of the three predictions\n",
    "breedpredict_df.describe()"
   ]
  },
  {
   "cell_type": "code",
   "execution_count": 22,
   "metadata": {},
   "outputs": [
    {
     "data": {
      "text/plain": [
       "378"
      ]
     },
     "execution_count": 22,
     "metadata": {},
     "output_type": "execute_result"
    }
   ],
   "source": [
    "# number of different identified objects in the first prediction\n",
    "len(breedpredict_df.p1.value_counts())"
   ]
  },
  {
   "cell_type": "code",
   "execution_count": 23,
   "metadata": {},
   "outputs": [
    {
     "data": {
      "text/plain": [
       "0.7383132530120482"
      ]
     },
     "execution_count": 23,
     "metadata": {},
     "output_type": "execute_result"
    }
   ],
   "source": [
    "# percentage of images identified as dogs in the first prediction\n",
    "len(breedpredict_df[breedpredict_df.p1_dog])/len(breedpredict_df.p1_dog)"
   ]
  },
  {
   "cell_type": "code",
   "execution_count": 24,
   "metadata": {},
   "outputs": [
    {
     "data": {
      "text/plain": [
       "111"
      ]
     },
     "execution_count": 24,
     "metadata": {},
     "output_type": "execute_result"
    }
   ],
   "source": [
    "# number of different dog breeds identified in the first prediction\n",
    "len(breedpredict_df.query('p1_dog').p1.value_counts())"
   ]
  },
  {
   "cell_type": "code",
   "execution_count": 25,
   "metadata": {},
   "outputs": [
    {
     "data": {
      "text/plain": [
       "golden_retriever                  150\n",
       "Labrador_retriever                100\n",
       "Pembroke                           89\n",
       "Chihuahua                          83\n",
       "pug                                57\n",
       "chow                               44\n",
       "Samoyed                            43\n",
       "toy_poodle                         39\n",
       "Pomeranian                         38\n",
       "malamute                           30\n",
       "cocker_spaniel                     30\n",
       "French_bulldog                     26\n",
       "miniature_pinscher                 23\n",
       "Chesapeake_Bay_retriever           23\n",
       "Siberian_husky                     20\n",
       "Staffordshire_bullterrier          20\n",
       "German_shepherd                    20\n",
       "Cardigan                           19\n",
       "beagle                             18\n",
       "Eskimo_dog                         18\n",
       "Shetland_sheepdog                  18\n",
       "Maltese_dog                        18\n",
       "Shih-Tzu                           17\n",
       "Lakeland_terrier                   17\n",
       "Rottweiler                         17\n",
       "Italian_greyhound                  16\n",
       "kuvasz                             16\n",
       "West_Highland_white_terrier        14\n",
       "Great_Pyrenees                     14\n",
       "American_Staffordshire_terrier     13\n",
       "                                 ... \n",
       "keeshond                            4\n",
       "Weimaraner                          4\n",
       "Gordon_setter                       4\n",
       "Rhodesian_ridgeback                 4\n",
       "Afghan_hound                        4\n",
       "Brabancon_griffon                   3\n",
       "Irish_water_spaniel                 3\n",
       "giant_schnauzer                     3\n",
       "Scottish_deerhound                  3\n",
       "cairn                               3\n",
       "Ibizan_hound                        3\n",
       "komondor                            3\n",
       "Welsh_springer_spaniel              3\n",
       "briard                              3\n",
       "Leonberg                            3\n",
       "Greater_Swiss_Mountain_dog          3\n",
       "curly-coated_retriever              3\n",
       "toy_terrier                         2\n",
       "wire-haired_fox_terrier             2\n",
       "Appenzeller                         2\n",
       "black-and-tan_coonhound             2\n",
       "Australian_terrier                  2\n",
       "Sussex_spaniel                      2\n",
       "Scotch_terrier                      1\n",
       "groenendael                         1\n",
       "Japanese_spaniel                    1\n",
       "silky_terrier                       1\n",
       "standard_schnauzer                  1\n",
       "clumber                             1\n",
       "EntleBucher                         1\n",
       "Name: p1, Length: 111, dtype: int64"
      ]
     },
     "execution_count": 25,
     "metadata": {},
     "output_type": "execute_result"
    }
   ],
   "source": [
    "breedpredict_df.query('p1_dog').p1.value_counts()"
   ]
  },
  {
   "cell_type": "markdown",
   "metadata": {},
   "source": [
    "Extended tweet data table"
   ]
  },
  {
   "cell_type": "code",
   "execution_count": 26,
   "metadata": {},
   "outputs": [
    {
     "data": {
      "text/html": [
       "<div>\n",
       "<style scoped>\n",
       "    .dataframe tbody tr th:only-of-type {\n",
       "        vertical-align: middle;\n",
       "    }\n",
       "\n",
       "    .dataframe tbody tr th {\n",
       "        vertical-align: top;\n",
       "    }\n",
       "\n",
       "    .dataframe thead th {\n",
       "        text-align: right;\n",
       "    }\n",
       "</style>\n",
       "<table border=\"1\" class=\"dataframe\">\n",
       "  <thead>\n",
       "    <tr style=\"text-align: right;\">\n",
       "      <th></th>\n",
       "      <th>created_at</th>\n",
       "      <th>id</th>\n",
       "      <th>id_str</th>\n",
       "      <th>full_text</th>\n",
       "      <th>truncated</th>\n",
       "      <th>display_text_range</th>\n",
       "      <th>entities</th>\n",
       "      <th>extended_entities</th>\n",
       "      <th>source</th>\n",
       "      <th>in_reply_to_status_id</th>\n",
       "      <th>...</th>\n",
       "      <th>place</th>\n",
       "      <th>contributors</th>\n",
       "      <th>is_quote_status</th>\n",
       "      <th>retweet_count</th>\n",
       "      <th>favorite_count</th>\n",
       "      <th>favorited</th>\n",
       "      <th>retweeted</th>\n",
       "      <th>possibly_sensitive</th>\n",
       "      <th>possibly_sensitive_appealable</th>\n",
       "      <th>lang</th>\n",
       "    </tr>\n",
       "  </thead>\n",
       "  <tbody>\n",
       "    <tr>\n",
       "      <th>959</th>\n",
       "      <td>Mon Jul 04 19:00:33 +0000 2016</td>\n",
       "      <td>750041628174217216</td>\n",
       "      <td>750041628174217216</td>\n",
       "      <td>This is Beau. He's trying to keep his daddy fr...</td>\n",
       "      <td>False</td>\n",
       "      <td>[0, 111]</td>\n",
       "      <td>{'hashtags': [], 'symbols': [], 'user_mentions...</td>\n",
       "      <td>{'media': [{'id': 749828107587248128, 'id_str'...</td>\n",
       "      <td>&lt;a href=\"https://about.twitter.com/products/tw...</td>\n",
       "      <td>NaN</td>\n",
       "      <td>...</td>\n",
       "      <td>None</td>\n",
       "      <td>None</td>\n",
       "      <td>False</td>\n",
       "      <td>662</td>\n",
       "      <td>3325</td>\n",
       "      <td>False</td>\n",
       "      <td>False</td>\n",
       "      <td>False</td>\n",
       "      <td>False</td>\n",
       "      <td>en</td>\n",
       "    </tr>\n",
       "    <tr>\n",
       "      <th>926</th>\n",
       "      <td>Tue Jul 12 17:27:23 +0000 2016</td>\n",
       "      <td>752917284578922496</td>\n",
       "      <td>752917284578922496</td>\n",
       "      <td>This is Grizzie. She's a semi-submerged Bahrai...</td>\n",
       "      <td>False</td>\n",
       "      <td>[0, 116]</td>\n",
       "      <td>{'hashtags': [], 'symbols': [], 'user_mentions...</td>\n",
       "      <td>{'media': [{'id': 752917276685438976, 'id_str'...</td>\n",
       "      <td>&lt;a href=\"http://twitter.com/download/iphone\" r...</td>\n",
       "      <td>NaN</td>\n",
       "      <td>...</td>\n",
       "      <td>None</td>\n",
       "      <td>None</td>\n",
       "      <td>False</td>\n",
       "      <td>1687</td>\n",
       "      <td>7240</td>\n",
       "      <td>False</td>\n",
       "      <td>False</td>\n",
       "      <td>False</td>\n",
       "      <td>False</td>\n",
       "      <td>en</td>\n",
       "    </tr>\n",
       "    <tr>\n",
       "      <th>261</th>\n",
       "      <td>Mon Mar 13 15:47:01 +0000 2017</td>\n",
       "      <td>841314665196081154</td>\n",
       "      <td>841314665196081154</td>\n",
       "      <td>This is Max. There's no way in h*ck you're tak...</td>\n",
       "      <td>False</td>\n",
       "      <td>[0, 127]</td>\n",
       "      <td>{'hashtags': [], 'symbols': [], 'user_mentions...</td>\n",
       "      <td>{'media': [{'id': 841311812641533952, 'id_str'...</td>\n",
       "      <td>&lt;a href=\"http://twitter.com\" rel=\"nofollow\"&gt;Tw...</td>\n",
       "      <td>NaN</td>\n",
       "      <td>...</td>\n",
       "      <td>None</td>\n",
       "      <td>None</td>\n",
       "      <td>False</td>\n",
       "      <td>4978</td>\n",
       "      <td>16437</td>\n",
       "      <td>False</td>\n",
       "      <td>False</td>\n",
       "      <td>False</td>\n",
       "      <td>False</td>\n",
       "      <td>en</td>\n",
       "    </tr>\n",
       "    <tr>\n",
       "      <th>75</th>\n",
       "      <td>Fri Jun 23 01:10:23 +0000 2017</td>\n",
       "      <td>878057613040115712</td>\n",
       "      <td>878057613040115712</td>\n",
       "      <td>This is Emmy. She was adopted today. Massive r...</td>\n",
       "      <td>False</td>\n",
       "      <td>[0, 115]</td>\n",
       "      <td>{'hashtags': [], 'symbols': [], 'user_mentions...</td>\n",
       "      <td>{'media': [{'id': 878057599261745152, 'id_str'...</td>\n",
       "      <td>&lt;a href=\"http://twitter.com/download/iphone\" r...</td>\n",
       "      <td>NaN</td>\n",
       "      <td>...</td>\n",
       "      <td>None</td>\n",
       "      <td>None</td>\n",
       "      <td>False</td>\n",
       "      <td>6640</td>\n",
       "      <td>41106</td>\n",
       "      <td>False</td>\n",
       "      <td>False</td>\n",
       "      <td>False</td>\n",
       "      <td>False</td>\n",
       "      <td>en</td>\n",
       "    </tr>\n",
       "  </tbody>\n",
       "</table>\n",
       "<p>4 rows × 27 columns</p>\n",
       "</div>"
      ],
      "text/plain": [
       "                         created_at                  id              id_str  \\\n",
       "959  Mon Jul 04 19:00:33 +0000 2016  750041628174217216  750041628174217216   \n",
       "926  Tue Jul 12 17:27:23 +0000 2016  752917284578922496  752917284578922496   \n",
       "261  Mon Mar 13 15:47:01 +0000 2017  841314665196081154  841314665196081154   \n",
       "75   Fri Jun 23 01:10:23 +0000 2017  878057613040115712  878057613040115712   \n",
       "\n",
       "                                             full_text  truncated  \\\n",
       "959  This is Beau. He's trying to keep his daddy fr...      False   \n",
       "926  This is Grizzie. She's a semi-submerged Bahrai...      False   \n",
       "261  This is Max. There's no way in h*ck you're tak...      False   \n",
       "75   This is Emmy. She was adopted today. Massive r...      False   \n",
       "\n",
       "    display_text_range                                           entities  \\\n",
       "959           [0, 111]  {'hashtags': [], 'symbols': [], 'user_mentions...   \n",
       "926           [0, 116]  {'hashtags': [], 'symbols': [], 'user_mentions...   \n",
       "261           [0, 127]  {'hashtags': [], 'symbols': [], 'user_mentions...   \n",
       "75            [0, 115]  {'hashtags': [], 'symbols': [], 'user_mentions...   \n",
       "\n",
       "                                     extended_entities  \\\n",
       "959  {'media': [{'id': 749828107587248128, 'id_str'...   \n",
       "926  {'media': [{'id': 752917276685438976, 'id_str'...   \n",
       "261  {'media': [{'id': 841311812641533952, 'id_str'...   \n",
       "75   {'media': [{'id': 878057599261745152, 'id_str'...   \n",
       "\n",
       "                                                source  in_reply_to_status_id  \\\n",
       "959  <a href=\"https://about.twitter.com/products/tw...                    NaN   \n",
       "926  <a href=\"http://twitter.com/download/iphone\" r...                    NaN   \n",
       "261  <a href=\"http://twitter.com\" rel=\"nofollow\">Tw...                    NaN   \n",
       "75   <a href=\"http://twitter.com/download/iphone\" r...                    NaN   \n",
       "\n",
       "     ...  place  contributors is_quote_status retweet_count favorite_count  \\\n",
       "959  ...   None          None           False           662           3325   \n",
       "926  ...   None          None           False          1687           7240   \n",
       "261  ...   None          None           False          4978          16437   \n",
       "75   ...   None          None           False          6640          41106   \n",
       "\n",
       "    favorited retweeted possibly_sensitive possibly_sensitive_appealable  lang  \n",
       "959     False     False              False                         False    en  \n",
       "926     False     False              False                         False    en  \n",
       "261     False     False              False                         False    en  \n",
       "75      False     False              False                         False    en  \n",
       "\n",
       "[4 rows x 27 columns]"
      ]
     },
     "execution_count": 26,
     "metadata": {},
     "output_type": "execute_result"
    }
   ],
   "source": [
    "extendedinfo_df.sample(4)"
   ]
  },
  {
   "cell_type": "code",
   "execution_count": 27,
   "metadata": {},
   "outputs": [
    {
     "name": "stdout",
     "output_type": "stream",
     "text": [
      "<class 'pandas.core.frame.DataFrame'>\n",
      "RangeIndex: 2339 entries, 0 to 2338\n",
      "Data columns (total 27 columns):\n",
      "created_at                       2339 non-null object\n",
      "id                               2339 non-null int64\n",
      "id_str                           2339 non-null object\n",
      "full_text                        2339 non-null object\n",
      "truncated                        2339 non-null bool\n",
      "display_text_range               2339 non-null object\n",
      "entities                         2339 non-null object\n",
      "extended_entities                2065 non-null object\n",
      "source                           2339 non-null object\n",
      "in_reply_to_status_id            77 non-null float64\n",
      "in_reply_to_status_id_str        77 non-null object\n",
      "in_reply_to_user_id              77 non-null float64\n",
      "in_reply_to_user_id_str          77 non-null object\n",
      "in_reply_to_screen_name          77 non-null object\n",
      "user                             2339 non-null object\n",
      "geo                              0 non-null object\n",
      "coordinates                      0 non-null object\n",
      "place                            1 non-null object\n",
      "contributors                     0 non-null object\n",
      "is_quote_status                  2339 non-null bool\n",
      "retweet_count                    2339 non-null int64\n",
      "favorite_count                   2339 non-null int64\n",
      "favorited                        2339 non-null bool\n",
      "retweeted                        2339 non-null bool\n",
      "possibly_sensitive               2203 non-null object\n",
      "possibly_sensitive_appealable    2203 non-null object\n",
      "lang                             2339 non-null object\n",
      "dtypes: bool(4), float64(2), int64(3), object(18)\n",
      "memory usage: 429.5+ KB\n"
     ]
    }
   ],
   "source": [
    "extendedinfo_df.info()"
   ]
  },
  {
   "cell_type": "code",
   "execution_count": 28,
   "metadata": {},
   "outputs": [
    {
     "data": {
      "text/plain": [
       "167"
      ]
     },
     "execution_count": 28,
     "metadata": {},
     "output_type": "execute_result"
    }
   ],
   "source": [
    "# What is the maximum tweet text length in this table?\n",
    "extendedinfo_df.full_text.str.len().max()"
   ]
  },
  {
   "cell_type": "code",
   "execution_count": 29,
   "metadata": {},
   "outputs": [
    {
     "data": {
      "text/html": [
       "<div>\n",
       "<style scoped>\n",
       "    .dataframe tbody tr th:only-of-type {\n",
       "        vertical-align: middle;\n",
       "    }\n",
       "\n",
       "    .dataframe tbody tr th {\n",
       "        vertical-align: top;\n",
       "    }\n",
       "\n",
       "    .dataframe thead th {\n",
       "        text-align: right;\n",
       "    }\n",
       "</style>\n",
       "<table border=\"1\" class=\"dataframe\">\n",
       "  <thead>\n",
       "    <tr style=\"text-align: right;\">\n",
       "      <th></th>\n",
       "      <th>id</th>\n",
       "      <th>in_reply_to_status_id</th>\n",
       "      <th>in_reply_to_user_id</th>\n",
       "      <th>retweet_count</th>\n",
       "      <th>favorite_count</th>\n",
       "    </tr>\n",
       "  </thead>\n",
       "  <tbody>\n",
       "    <tr>\n",
       "      <th>count</th>\n",
       "      <td>2.339000e+03</td>\n",
       "      <td>7.700000e+01</td>\n",
       "      <td>7.700000e+01</td>\n",
       "      <td>2339.000000</td>\n",
       "      <td>2339.000000</td>\n",
       "    </tr>\n",
       "    <tr>\n",
       "      <th>mean</th>\n",
       "      <td>7.421620e+17</td>\n",
       "      <td>7.440692e+17</td>\n",
       "      <td>2.040329e+16</td>\n",
       "      <td>2907.487815</td>\n",
       "      <td>7908.548953</td>\n",
       "    </tr>\n",
       "    <tr>\n",
       "      <th>std</th>\n",
       "      <td>6.828729e+16</td>\n",
       "      <td>7.524295e+16</td>\n",
       "      <td>1.260797e+17</td>\n",
       "      <td>4901.594336</td>\n",
       "      <td>12257.423888</td>\n",
       "    </tr>\n",
       "    <tr>\n",
       "      <th>min</th>\n",
       "      <td>6.660209e+17</td>\n",
       "      <td>6.658147e+17</td>\n",
       "      <td>1.185634e+07</td>\n",
       "      <td>0.000000</td>\n",
       "      <td>0.000000</td>\n",
       "    </tr>\n",
       "    <tr>\n",
       "      <th>25%</th>\n",
       "      <td>6.783378e+17</td>\n",
       "      <td>6.757073e+17</td>\n",
       "      <td>3.589728e+08</td>\n",
       "      <td>584.000000</td>\n",
       "      <td>1367.500000</td>\n",
       "    </tr>\n",
       "    <tr>\n",
       "      <th>50%</th>\n",
       "      <td>7.186133e+17</td>\n",
       "      <td>7.032559e+17</td>\n",
       "      <td>4.196984e+09</td>\n",
       "      <td>1356.000000</td>\n",
       "      <td>3444.000000</td>\n",
       "    </tr>\n",
       "    <tr>\n",
       "      <th>75%</th>\n",
       "      <td>7.986907e+17</td>\n",
       "      <td>8.233264e+17</td>\n",
       "      <td>4.196984e+09</td>\n",
       "      <td>3389.000000</td>\n",
       "      <td>9692.500000</td>\n",
       "    </tr>\n",
       "    <tr>\n",
       "      <th>max</th>\n",
       "      <td>8.924206e+17</td>\n",
       "      <td>8.862664e+17</td>\n",
       "      <td>8.405479e+17</td>\n",
       "      <td>83081.000000</td>\n",
       "      <td>163378.000000</td>\n",
       "    </tr>\n",
       "  </tbody>\n",
       "</table>\n",
       "</div>"
      ],
      "text/plain": [
       "                 id  in_reply_to_status_id  in_reply_to_user_id  \\\n",
       "count  2.339000e+03           7.700000e+01         7.700000e+01   \n",
       "mean   7.421620e+17           7.440692e+17         2.040329e+16   \n",
       "std    6.828729e+16           7.524295e+16         1.260797e+17   \n",
       "min    6.660209e+17           6.658147e+17         1.185634e+07   \n",
       "25%    6.783378e+17           6.757073e+17         3.589728e+08   \n",
       "50%    7.186133e+17           7.032559e+17         4.196984e+09   \n",
       "75%    7.986907e+17           8.233264e+17         4.196984e+09   \n",
       "max    8.924206e+17           8.862664e+17         8.405479e+17   \n",
       "\n",
       "       retweet_count  favorite_count  \n",
       "count    2339.000000     2339.000000  \n",
       "mean     2907.487815     7908.548953  \n",
       "std      4901.594336    12257.423888  \n",
       "min         0.000000        0.000000  \n",
       "25%       584.000000     1367.500000  \n",
       "50%      1356.000000     3444.000000  \n",
       "75%      3389.000000     9692.500000  \n",
       "max     83081.000000   163378.000000  "
      ]
     },
     "execution_count": 29,
     "metadata": {},
     "output_type": "execute_result"
    }
   ],
   "source": [
    "extendedinfo_df.describe()"
   ]
  },
  {
   "cell_type": "markdown",
   "metadata": {},
   "source": [
    "### Quality\n",
    "\n",
    "`maintweets` table\n",
    "\n",
    "1. Rows corresponding to retweets are present\n",
    "2. Tweet ID datatype should be string\n",
    "3. Timestamp should be datetime format\n",
    "4. Some of the dogs' names are common words registered wrongly\n",
    "5. 'None' strings and nulls as values mixed in text fields could be a problem for indexing.\n",
    "\n",
    "`breedpredict` table\n",
    "\n",
    "6. Dog breed names have inconsistent formats\n",
    "7. Rows with images identified as non-dog are present\n",
    "8. Dog breed datatype should be category\n",
    "9. Non-descriptive variable names\n",
    "\n",
    "### Tidiness\n",
    "\n",
    "1. Several columns for dog stage, should be one\n",
    "2. Several columns for predicted dog breed, should be one\n",
    "3. Three tables should be unified into one: the variables *retweet_count* and *favorite_count* from `extendedinfo`, and *p1* and *jpeg_url* from `breedpredict`, should be merged into `maintweets` using *tweet_id* as key; several other columns from `maintweets` that will not be used in the analysis should be removed."
   ]
  },
  {
   "cell_type": "markdown",
   "metadata": {},
   "source": [
    "## Cleaning\n",
    "\n",
    "First I make a copy of the three tables:"
   ]
  },
  {
   "cell_type": "code",
   "execution_count": 30,
   "metadata": {},
   "outputs": [],
   "source": [
    "main_clean = maintweets_df.copy()"
   ]
  },
  {
   "cell_type": "code",
   "execution_count": 31,
   "metadata": {},
   "outputs": [],
   "source": [
    "breed_clean = breedpredict_df.copy()"
   ]
  },
  {
   "cell_type": "code",
   "execution_count": 32,
   "metadata": {},
   "outputs": [],
   "source": [
    "extend_clean = extendedinfo_df.copy()"
   ]
  },
  {
   "cell_type": "markdown",
   "metadata": {},
   "source": [
    "### Unwanted observations"
   ]
  },
  {
   "cell_type": "markdown",
   "metadata": {},
   "source": [
    "#### `main` table:\n",
    "\n",
    "Since the analysis will be based on the tweet data from the `main` table, before doing more work I remove all observations that correspond to retweets first from this table to comply with the project guidelines.\n",
    "\n",
    "##### Define\n",
    "\n",
    "Remove all rows that correspond to retweets.\n",
    "\n",
    "##### Code"
   ]
  },
  {
   "cell_type": "code",
   "execution_count": 33,
   "metadata": {},
   "outputs": [],
   "source": [
    "# use indexing to reduce the dataframe to observations that are not retweets\n",
    "main_clean = main_clean[main_clean.retweeted_status_id.isnull()]"
   ]
  },
  {
   "cell_type": "markdown",
   "metadata": {},
   "source": [
    "##### Test"
   ]
  },
  {
   "cell_type": "code",
   "execution_count": 34,
   "metadata": {},
   "outputs": [
    {
     "name": "stdout",
     "output_type": "stream",
     "text": [
      "<class 'pandas.core.frame.DataFrame'>\n",
      "Int64Index: 2175 entries, 0 to 2355\n",
      "Data columns (total 17 columns):\n",
      "tweet_id                      2175 non-null int64\n",
      "in_reply_to_status_id         78 non-null float64\n",
      "in_reply_to_user_id           78 non-null float64\n",
      "timestamp                     2175 non-null object\n",
      "source                        2175 non-null object\n",
      "text                          2175 non-null object\n",
      "retweeted_status_id           0 non-null float64\n",
      "retweeted_status_user_id      0 non-null float64\n",
      "retweeted_status_timestamp    0 non-null object\n",
      "expanded_urls                 2117 non-null object\n",
      "rating_numerator              2175 non-null int64\n",
      "rating_denominator            2175 non-null int64\n",
      "name                          2175 non-null object\n",
      "doggo                         2175 non-null object\n",
      "floofer                       2175 non-null object\n",
      "pupper                        2175 non-null object\n",
      "puppo                         2175 non-null object\n",
      "dtypes: float64(4), int64(3), object(10)\n",
      "memory usage: 305.9+ KB\n"
     ]
    }
   ],
   "source": [
    "main_clean.info()"
   ]
  },
  {
   "cell_type": "markdown",
   "metadata": {},
   "source": [
    "#### `breed` table:\n",
    "\n",
    "I want to use dog breed information in my analysis, so I will keep only the observations that have a prediction of a dog breed, and also have at least 33% confidence in the first prediction.\n",
    "\n",
    "This decision also solves the tidiness issue of the breed prediction variable's information being spread over several columns, since I will only use the strongest prediction (contained always in the column *p1*).\n",
    "\n",
    "##### Define\n",
    "\n",
    "Reduce the table to only the rows where *p1_dog* is `True` and *p1_conf* is at least .33.\n",
    "\n",
    "##### Code"
   ]
  },
  {
   "cell_type": "code",
   "execution_count": 35,
   "metadata": {},
   "outputs": [],
   "source": [
    "breed_clean = breed_clean.query('p1_conf >= .33 & p1_dog')"
   ]
  },
  {
   "cell_type": "markdown",
   "metadata": {},
   "source": [
    "##### Test"
   ]
  },
  {
   "cell_type": "code",
   "execution_count": 36,
   "metadata": {},
   "outputs": [
    {
     "data": {
      "text/plain": [
       "1.0"
      ]
     },
     "execution_count": 36,
     "metadata": {},
     "output_type": "execute_result"
    }
   ],
   "source": [
    "# percentage of images identified as dogs in p1 after cleaning\n",
    "len(breed_clean[breed_clean.p1_dog])/len(breed_clean)"
   ]
  },
  {
   "cell_type": "code",
   "execution_count": 37,
   "metadata": {},
   "outputs": [
    {
     "data": {
      "text/html": [
       "<div>\n",
       "<style scoped>\n",
       "    .dataframe tbody tr th:only-of-type {\n",
       "        vertical-align: middle;\n",
       "    }\n",
       "\n",
       "    .dataframe tbody tr th {\n",
       "        vertical-align: top;\n",
       "    }\n",
       "\n",
       "    .dataframe thead th {\n",
       "        text-align: right;\n",
       "    }\n",
       "</style>\n",
       "<table border=\"1\" class=\"dataframe\">\n",
       "  <thead>\n",
       "    <tr style=\"text-align: right;\">\n",
       "      <th></th>\n",
       "      <th>tweet_id</th>\n",
       "      <th>img_num</th>\n",
       "      <th>p1_conf</th>\n",
       "      <th>p2_conf</th>\n",
       "      <th>p3_conf</th>\n",
       "    </tr>\n",
       "  </thead>\n",
       "  <tbody>\n",
       "    <tr>\n",
       "      <th>count</th>\n",
       "      <td>1.264000e+03</td>\n",
       "      <td>1264.000000</td>\n",
       "      <td>1264.000000</td>\n",
       "      <td>1264.000000</td>\n",
       "      <td>1.264000e+03</td>\n",
       "    </tr>\n",
       "    <tr>\n",
       "      <th>mean</th>\n",
       "      <td>7.456465e+17</td>\n",
       "      <td>1.244462</td>\n",
       "      <td>0.694517</td>\n",
       "      <td>0.136934</td>\n",
       "      <td>5.194508e-02</td>\n",
       "    </tr>\n",
       "    <tr>\n",
       "      <th>std</th>\n",
       "      <td>6.913040e+16</td>\n",
       "      <td>0.614847</td>\n",
       "      <td>0.208755</td>\n",
       "      <td>0.108877</td>\n",
       "      <td>4.946894e-02</td>\n",
       "    </tr>\n",
       "    <tr>\n",
       "      <th>min</th>\n",
       "      <td>6.660209e+17</td>\n",
       "      <td>1.000000</td>\n",
       "      <td>0.330171</td>\n",
       "      <td>0.000023</td>\n",
       "      <td>2.160900e-07</td>\n",
       "    </tr>\n",
       "    <tr>\n",
       "      <th>25%</th>\n",
       "      <td>6.801384e+17</td>\n",
       "      <td>1.000000</td>\n",
       "      <td>0.509945</td>\n",
       "      <td>0.044376</td>\n",
       "      <td>9.931482e-03</td>\n",
       "    </tr>\n",
       "    <tr>\n",
       "      <th>50%</th>\n",
       "      <td>7.276651e+17</td>\n",
       "      <td>1.000000</td>\n",
       "      <td>0.707540</td>\n",
       "      <td>0.116180</td>\n",
       "      <td>3.833030e-02</td>\n",
       "    </tr>\n",
       "    <tr>\n",
       "      <th>75%</th>\n",
       "      <td>8.026676e+17</td>\n",
       "      <td>1.000000</td>\n",
       "      <td>0.887646</td>\n",
       "      <td>0.203774</td>\n",
       "      <td>7.969630e-02</td>\n",
       "    </tr>\n",
       "    <tr>\n",
       "      <th>max</th>\n",
       "      <td>8.918152e+17</td>\n",
       "      <td>4.000000</td>\n",
       "      <td>0.999956</td>\n",
       "      <td>0.467678</td>\n",
       "      <td>2.734190e-01</td>\n",
       "    </tr>\n",
       "  </tbody>\n",
       "</table>\n",
       "</div>"
      ],
      "text/plain": [
       "           tweet_id      img_num      p1_conf      p2_conf       p3_conf\n",
       "count  1.264000e+03  1264.000000  1264.000000  1264.000000  1.264000e+03\n",
       "mean   7.456465e+17     1.244462     0.694517     0.136934  5.194508e-02\n",
       "std    6.913040e+16     0.614847     0.208755     0.108877  4.946894e-02\n",
       "min    6.660209e+17     1.000000     0.330171     0.000023  2.160900e-07\n",
       "25%    6.801384e+17     1.000000     0.509945     0.044376  9.931482e-03\n",
       "50%    7.276651e+17     1.000000     0.707540     0.116180  3.833030e-02\n",
       "75%    8.026676e+17     1.000000     0.887646     0.203774  7.969630e-02\n",
       "max    8.918152e+17     4.000000     0.999956     0.467678  2.734190e-01"
      ]
     },
     "execution_count": 37,
     "metadata": {},
     "output_type": "execute_result"
    }
   ],
   "source": [
    "# number of rows remaining and values of p1_conf\n",
    "breed_clean.describe()"
   ]
  },
  {
   "cell_type": "markdown",
   "metadata": {},
   "source": [
    "This still sets the median breed prediction confidence at 69%, with only 25% of predictions having less than 50% condifence."
   ]
  },
  {
   "cell_type": "markdown",
   "metadata": {},
   "source": [
    "### Tidiness"
   ]
  },
  {
   "cell_type": "markdown",
   "metadata": {},
   "source": [
    "#### `main` table: Dog stage information is spread over several coumns."
   ]
  },
  {
   "cell_type": "markdown",
   "metadata": {},
   "source": [
    "##### Define\n",
    "\n",
    "Create one single column containing dog stage information."
   ]
  },
  {
   "cell_type": "markdown",
   "metadata": {},
   "source": [
    "##### Code"
   ]
  },
  {
   "cell_type": "code",
   "execution_count": 38,
   "metadata": {},
   "outputs": [],
   "source": [
    "# first replace all 'None' strings in the stage columns with empty strings to be able to sum\n",
    "main_clean.doggo.replace({'None':''}, inplace=True)\n",
    "main_clean.floofer.replace({'None':''}, inplace=True)\n",
    "main_clean.pupper.replace({'None':''}, inplace=True)\n",
    "main_clean.puppo.replace({'None':''}, inplace=True)"
   ]
  },
  {
   "cell_type": "code",
   "execution_count": 39,
   "metadata": {},
   "outputs": [],
   "source": [
    "# create a new column with the sum of the strings in the original four columns\n",
    "main_clean['dog_stage'] = main_clean.doggo + main_clean.floofer + main_clean.pupper + main_clean.puppo"
   ]
  },
  {
   "cell_type": "code",
   "execution_count": 40,
   "metadata": {},
   "outputs": [],
   "source": [
    "# finally replace all empty strings with proper 'None' strings again to prevent indexing issues\n",
    "main_clean.doggo.replace({'':'None'}, inplace=True)\n",
    "main_clean.floofer.replace({'':'None'}, inplace=True)\n",
    "main_clean.pupper.replace({'':'None'}, inplace=True)\n",
    "main_clean.puppo.replace({'':'None'}, inplace=True)\n",
    "main_clean.dog_stage.replace({'':'None'}, inplace=True)"
   ]
  },
  {
   "cell_type": "markdown",
   "metadata": {},
   "source": [
    "##### Test"
   ]
  },
  {
   "cell_type": "code",
   "execution_count": 41,
   "metadata": {},
   "outputs": [
    {
     "data": {
      "text/plain": [
       "None            1831\n",
       "pupper           224\n",
       "doggo             75\n",
       "puppo             24\n",
       "doggopupper       10\n",
       "floofer            9\n",
       "doggofloofer       1\n",
       "doggopuppo         1\n",
       "Name: dog_stage, dtype: int64"
      ]
     },
     "execution_count": 41,
     "metadata": {},
     "output_type": "execute_result"
    }
   ],
   "source": [
    "main_clean.dog_stage.value_counts()"
   ]
  },
  {
   "cell_type": "markdown",
   "metadata": {},
   "source": [
    "Some **iteration** is necessary to solve this issue; I will visually **assess** tweet texts in the cases of mixed dog stages before **cleaning** again:"
   ]
  },
  {
   "cell_type": "code",
   "execution_count": 42,
   "metadata": {},
   "outputs": [
    {
     "data": {
      "text/plain": [
       "191     Here's a puppo participating in the #ScienceMarch. Cleverly disguising her own doggo agenda. 13/10 would keep the planet habitable for https://t.co/cMhq16isel      \n",
       "200     At first I thought this was a shy doggo, but it's actually a Rare Canadian Floofer Owl. Amateurs would confuse the two. 11/10 only send dogs https://t.co/TXdT3tmuYk\n",
       "460     This is Dido. She's playing the lead role in \"Pupper Stops to Catch Snow Before Resuming Shadow Box with Dried Apple.\" 13/10 (IG: didodoggo) https://t.co/m7isZrOBX7\n",
       "531     Here we have Burke (pupper) and Dexter (doggo). Pupper wants to be exactly like doggo. Both 12/10 would pet at same time https://t.co/ANBpEYHaho                    \n",
       "565     Like doggo, like pupper version 2. Both 11/10 https://t.co/9IxWAXFqze                                                                                               \n",
       "575     This is Bones. He's being haunted by another doggo of roughly the same size. 12/10 deep breaths pupper everything's fine https://t.co/55Dqe0SJNj                    \n",
       "705     This is Pinot. He's a sophisticated doggo. You can tell by the hat. Also pointier than your average pupper. Still 10/10 would pet cautiously https://t.co/f2wmLZTPHd\n",
       "733     Pupper butt 1, Doggo 0. Both 12/10 https://t.co/WQvcPEpH2u                                                                                                          \n",
       "889     Meet Maggie &amp; Lila. Maggie is the doggo, Lila is the pupper. They are sisters. Both 12/10 would pet at the same time https://t.co/MYwR4DQKll                    \n",
       "956     Please stop sending it pictures that don't even have a doggo or pupper in them. Churlish af. 5/10 neat couch tho https://t.co/u2c9c7qSg8                            \n",
       "1063    This is just downright precious af. 12/10 for both pupper and doggo https://t.co/o5J479bZUC                                                                         \n",
       "1113    Like father (doggo), like son (pupper). Both 12/10 https://t.co/pG2inLaOda                                                                                          \n",
       "Name: text, dtype: object"
      ]
     },
     "execution_count": 42,
     "metadata": {},
     "output_type": "execute_result"
    }
   ],
   "source": [
    "# (remove displayed text length limit for visual asssessment)\n",
    "pd.reset_option('^display')\n",
    "pd.set_option('display.max_colwidth', -1)\n",
    "main_clean[main_clean.dog_stage.str.len() > 7].text"
   ]
  },
  {
   "cell_type": "code",
   "execution_count": 43,
   "metadata": {},
   "outputs": [],
   "source": [
    "# (reset displayed text length limit)\n",
    "pd.reset_option('^display')"
   ]
  },
  {
   "cell_type": "markdown",
   "metadata": {},
   "source": [
    "It looks like the occurrences of doggo + pupper are all actual cases of two dogs in the picture. In the other two cases, it seems best to keep only the first identified dog stage.\n",
    "\n",
    "Since the number of occurrences is small, this type of visual assessment and a quick solution using `.replace()` are possible; if there were many occurrences a different approach to the previous coding step would be necessary.\n",
    "\n",
    "##### Define\n",
    "\n",
    "Replace the occurrences of mixed dog stage.\n",
    "\n",
    "#### Code"
   ]
  },
  {
   "cell_type": "code",
   "execution_count": 44,
   "metadata": {},
   "outputs": [],
   "source": [
    "main_clean.dog_stage.replace({'doggopupper':'a doggo and a pupper',\n",
    "                                 'doggopuppo':'doggo',\n",
    "                                 'doggofloofer':'doggo'}, inplace=True)"
   ]
  },
  {
   "cell_type": "markdown",
   "metadata": {},
   "source": [
    "#### Test"
   ]
  },
  {
   "cell_type": "code",
   "execution_count": 45,
   "metadata": {},
   "outputs": [
    {
     "data": {
      "text/plain": [
       "None                    1831\n",
       "pupper                   224\n",
       "doggo                     77\n",
       "puppo                     24\n",
       "a doggo and a pupper      10\n",
       "floofer                    9\n",
       "Name: dog_stage, dtype: int64"
      ]
     },
     "execution_count": 45,
     "metadata": {},
     "output_type": "execute_result"
    }
   ],
   "source": [
    "main_clean.dog_stage.value_counts()"
   ]
  },
  {
   "cell_type": "markdown",
   "metadata": {},
   "source": [
    "#### Information from `breed` and `extended` tables should be merged with `main` into a single `master` table.\n",
    "\n",
    "##### Define\n",
    "\n",
    "Merge `breed` and `extended` tables into `main`.\n",
    "\n",
    "##### Code"
   ]
  },
  {
   "cell_type": "code",
   "execution_count": 46,
   "metadata": {},
   "outputs": [
    {
     "data": {
      "text/plain": [
       "18                 tweet_id\n",
       "38                   source\n",
       "39    in_reply_to_status_id\n",
       "41      in_reply_to_user_id\n",
       "dtype: object"
      ]
     },
     "execution_count": 46,
     "metadata": {},
     "output_type": "execute_result"
    }
   ],
   "source": [
    "# check for duplicated values in the column names of the three tables\n",
    "all_columns = pd.Series(list(main_clean)+list(breed_clean)+list(extend_clean))\n",
    "all_columns[all_columns.duplicated()]"
   ]
  },
  {
   "cell_type": "code",
   "execution_count": 47,
   "metadata": {},
   "outputs": [],
   "source": [
    "master_df = pd.merge(main_clean, breed_clean, on='tweet_id', how='left')"
   ]
  },
  {
   "cell_type": "code",
   "execution_count": 48,
   "metadata": {},
   "outputs": [],
   "source": [
    "# rename id column in extended table to match the other two\n",
    "extend_clean.rename(columns={'id':'tweet_id'}, inplace=True)"
   ]
  },
  {
   "cell_type": "code",
   "execution_count": 49,
   "metadata": {},
   "outputs": [],
   "source": [
    "master_df = pd.merge(master_df, extend_clean, on='tweet_id', how='inner')"
   ]
  },
  {
   "cell_type": "markdown",
   "metadata": {},
   "source": [
    "##### Test"
   ]
  },
  {
   "cell_type": "code",
   "execution_count": 50,
   "metadata": {
    "scrolled": true
   },
   "outputs": [
    {
     "name": "stdout",
     "output_type": "stream",
     "text": [
      "<class 'pandas.core.frame.DataFrame'>\n",
      "Int64Index: 2172 entries, 0 to 2171\n",
      "Data columns (total 55 columns):\n",
      "tweet_id                         2172 non-null int64\n",
      "in_reply_to_status_id_x          78 non-null float64\n",
      "in_reply_to_user_id_x            78 non-null float64\n",
      "timestamp                        2172 non-null object\n",
      "source_x                         2172 non-null object\n",
      "text                             2172 non-null object\n",
      "retweeted_status_id              0 non-null float64\n",
      "retweeted_status_user_id         0 non-null float64\n",
      "retweeted_status_timestamp       0 non-null object\n",
      "expanded_urls                    2114 non-null object\n",
      "rating_numerator                 2172 non-null int64\n",
      "rating_denominator               2172 non-null int64\n",
      "name                             2172 non-null object\n",
      "doggo                            2172 non-null object\n",
      "floofer                          2172 non-null object\n",
      "pupper                           2172 non-null object\n",
      "puppo                            2172 non-null object\n",
      "dog_stage                        2172 non-null object\n",
      "jpg_url                          1213 non-null object\n",
      "img_num                          1213 non-null float64\n",
      "p1                               1213 non-null object\n",
      "p1_conf                          1213 non-null float64\n",
      "p1_dog                           1213 non-null object\n",
      "p2                               1213 non-null object\n",
      "p2_conf                          1213 non-null float64\n",
      "p2_dog                           1213 non-null object\n",
      "p3                               1213 non-null object\n",
      "p3_conf                          1213 non-null float64\n",
      "p3_dog                           1213 non-null object\n",
      "created_at                       2172 non-null object\n",
      "id_str                           2172 non-null object\n",
      "full_text                        2172 non-null object\n",
      "truncated                        2172 non-null bool\n",
      "display_text_range               2172 non-null object\n",
      "entities                         2172 non-null object\n",
      "extended_entities                1991 non-null object\n",
      "source_y                         2172 non-null object\n",
      "in_reply_to_status_id_y          77 non-null float64\n",
      "in_reply_to_status_id_str        77 non-null object\n",
      "in_reply_to_user_id_y            77 non-null float64\n",
      "in_reply_to_user_id_str          77 non-null object\n",
      "in_reply_to_screen_name          77 non-null object\n",
      "user                             2172 non-null object\n",
      "geo                              0 non-null object\n",
      "coordinates                      0 non-null object\n",
      "place                            1 non-null object\n",
      "contributors                     0 non-null object\n",
      "is_quote_status                  2172 non-null bool\n",
      "retweet_count                    2172 non-null int64\n",
      "favorite_count                   2172 non-null int64\n",
      "favorited                        2172 non-null bool\n",
      "retweeted                        2172 non-null bool\n",
      "possibly_sensitive               2114 non-null object\n",
      "possibly_sensitive_appealable    2114 non-null object\n",
      "lang                             2172 non-null object\n",
      "dtypes: bool(4), float64(10), int64(5), object(36)\n",
      "memory usage: 890.9+ KB\n"
     ]
    }
   ],
   "source": [
    "master_df.info()"
   ]
  },
  {
   "cell_type": "markdown",
   "metadata": {},
   "source": [
    "#### Remove unnecessary columns before further cleaning\n",
    "\n",
    "##### Define\n",
    "\n",
    "Drop columns that will not be used in the analysis.\n",
    "\n",
    "##### Code"
   ]
  },
  {
   "cell_type": "code",
   "execution_count": 51,
   "metadata": {},
   "outputs": [],
   "source": [
    "master_clean = master_df.copy()"
   ]
  },
  {
   "cell_type": "code",
   "execution_count": 52,
   "metadata": {},
   "outputs": [],
   "source": [
    "columns_to_keep = ['tweet_id', 'timestamp', 'text', 'rating_numerator',\n",
    "                   'rating_denominator', 'name', 'dog_stage', 'jpg_url',\n",
    "                  'p1', 'retweet_count', 'favorite_count']"
   ]
  },
  {
   "cell_type": "code",
   "execution_count": 53,
   "metadata": {},
   "outputs": [],
   "source": [
    "master_clean.drop(columns=[x for x in master_clean.columns if x not in columns_to_keep], inplace=True)"
   ]
  },
  {
   "cell_type": "markdown",
   "metadata": {},
   "source": [
    "##### Test"
   ]
  },
  {
   "cell_type": "code",
   "execution_count": 54,
   "metadata": {},
   "outputs": [
    {
     "name": "stdout",
     "output_type": "stream",
     "text": [
      "<class 'pandas.core.frame.DataFrame'>\n",
      "Int64Index: 2172 entries, 0 to 2171\n",
      "Data columns (total 11 columns):\n",
      "tweet_id              2172 non-null int64\n",
      "timestamp             2172 non-null object\n",
      "text                  2172 non-null object\n",
      "rating_numerator      2172 non-null int64\n",
      "rating_denominator    2172 non-null int64\n",
      "name                  2172 non-null object\n",
      "dog_stage             2172 non-null object\n",
      "jpg_url               1213 non-null object\n",
      "p1                    1213 non-null object\n",
      "retweet_count         2172 non-null int64\n",
      "favorite_count        2172 non-null int64\n",
      "dtypes: int64(5), object(6)\n",
      "memory usage: 203.6+ KB\n"
     ]
    }
   ],
   "source": [
    "master_clean.info()"
   ]
  },
  {
   "cell_type": "markdown",
   "metadata": {},
   "source": [
    "### Quality\n",
    "\n",
    "##### Issues already addressed (unwanted observations):\n",
    "\n",
    " - Tweet data corresponding to retweets removed\n",
    " - Image prediction data for to weak or non-dog predictions removed\n",
    "\n",
    "##### Remaining issues:\n",
    "\n",
    " Contents of cells\n",
    "   - Some of the dogs' names are common words registered wrongly\n",
    "   - Dog breed names have inconsistent formats (lowercase and uppercase mixed)\n",
    "   - `NaN` in text columns may be a problem for indexing\n",
    " \n",
    " \n",
    " Wrong data types\n",
    "   - Tweet ID datatype should be string\n",
    "   - Timestamp should be datetime or date format\n",
    "   - Dog stage and dog breed datatypes should be category\n",
    "   \n",
    "   \n",
    " Other\n",
    "  - Non-descriptive variable names\n",
    "\n"
   ]
  },
  {
   "cell_type": "markdown",
   "metadata": {},
   "source": [
    "#### Dog names registered incorrectly\n",
    "\n",
    "##### Define\n",
    "\n",
    "For cases of non-names in the *name* column, replace with 'None' strings.\n",
    "\n",
    "##### Code"
   ]
  },
  {
   "cell_type": "code",
   "execution_count": 55,
   "metadata": {},
   "outputs": [],
   "source": [
    "master_clean.name = master_clean.name.mask(master_clean.name.str.islower(), 'None')"
   ]
  },
  {
   "cell_type": "markdown",
   "metadata": {},
   "source": [
    "##### Test"
   ]
  },
  {
   "cell_type": "code",
   "execution_count": 56,
   "metadata": {},
   "outputs": [
    {
     "data": {
      "text/plain": [
       "None       784\n",
       "Lucy        11\n",
       "Cooper      10\n",
       "Charlie     10\n",
       "Oliver      10\n",
       "Tucker       9\n",
       "Penny        9\n",
       "Lola         8\n",
       "Winston      8\n",
       "Sadie        8\n",
       "Daisy        7\n",
       "Toby         7\n",
       "Jax          6\n",
       "Oscar        6\n",
       "Koda         6\n",
       "Name: name, dtype: int64"
      ]
     },
     "execution_count": 56,
     "metadata": {},
     "output_type": "execute_result"
    }
   ],
   "source": [
    "master_clean.name.value_counts().head(15)"
   ]
  },
  {
   "cell_type": "markdown",
   "metadata": {},
   "source": [
    "#### Inconsistent breed name format and `NaN` values\n",
    "\n",
    "##### Define\n",
    "\n",
    "Capitalize all breed names and replace `NaN` with 'None' strings, this operation also for the *dog_stage* and *jpg_url* columns.\n",
    "\n",
    "##### Code"
   ]
  },
  {
   "cell_type": "code",
   "execution_count": 57,
   "metadata": {},
   "outputs": [],
   "source": [
    "master_clean.p1 = master_clean.p1.str.title()\n",
    "master_clean.p1.replace({np.nan:'None'}, inplace=True)\n",
    "master_clean.jpg_url.replace({np.nan:'None'}, inplace=True)"
   ]
  },
  {
   "cell_type": "markdown",
   "metadata": {},
   "source": [
    "##### Test"
   ]
  },
  {
   "cell_type": "code",
   "execution_count": 58,
   "metadata": {},
   "outputs": [
    {
     "data": {
      "text/plain": [
       "None                        959\n",
       "Golden_Retriever            125\n",
       "Pembroke                     83\n",
       "Labrador_Retriever           83\n",
       "Chihuahua                    63\n",
       "Pug                          51\n",
       "Pomeranian                   36\n",
       "Samoyed                      35\n",
       "Toy_Poodle                   34\n",
       "Chow                         32\n",
       "Malamute                     26\n",
       "French_Bulldog               23\n",
       "Cocker_Spaniel               22\n",
       "German_Shepherd              19\n",
       "Chesapeake_Bay_Retriever     18\n",
       "Name: p1, dtype: int64"
      ]
     },
     "execution_count": 58,
     "metadata": {},
     "output_type": "execute_result"
    }
   ],
   "source": [
    "master_clean.p1.value_counts().head(15)"
   ]
  },
  {
   "cell_type": "code",
   "execution_count": 59,
   "metadata": {},
   "outputs": [
    {
     "data": {
      "text/plain": [
       "None                    1828\n",
       "pupper                   224\n",
       "doggo                     77\n",
       "puppo                     24\n",
       "a doggo and a pupper      10\n",
       "floofer                    9\n",
       "Name: dog_stage, dtype: int64"
      ]
     },
     "execution_count": 59,
     "metadata": {},
     "output_type": "execute_result"
    }
   ],
   "source": [
    "master_clean.dog_stage.value_counts()"
   ]
  },
  {
   "cell_type": "markdown",
   "metadata": {},
   "source": [
    "#### Wrong datatypes\n",
    "\n",
    "##### Define\n",
    "\n",
    "Change datatypes of variables *tweet_id*, *timestamp*, *dog_stage* and *p1*.\n",
    "\n",
    "##### Code"
   ]
  },
  {
   "cell_type": "code",
   "execution_count": 60,
   "metadata": {},
   "outputs": [],
   "source": [
    "master_clean.timestamp = pd.to_datetime(master_clean.timestamp)\n",
    "master_clean.timestamp = master_clean.timestamp.dt.date\n",
    "master_clean.tweet_id = master_clean.tweet_id.astype(str)\n",
    "master_clean.dog_stage = master_clean.dog_stage.astype('category')\n",
    "master_clean.p1 = master_clean.p1.astype('category')"
   ]
  },
  {
   "cell_type": "markdown",
   "metadata": {},
   "source": [
    "##### Test"
   ]
  },
  {
   "cell_type": "code",
   "execution_count": 61,
   "metadata": {},
   "outputs": [
    {
     "name": "stdout",
     "output_type": "stream",
     "text": [
      "<class 'pandas.core.frame.DataFrame'>\n",
      "Int64Index: 2172 entries, 0 to 2171\n",
      "Data columns (total 11 columns):\n",
      "tweet_id              2172 non-null object\n",
      "timestamp             2172 non-null object\n",
      "text                  2172 non-null object\n",
      "rating_numerator      2172 non-null int64\n",
      "rating_denominator    2172 non-null int64\n",
      "name                  2172 non-null object\n",
      "dog_stage             2172 non-null category\n",
      "jpg_url               2172 non-null object\n",
      "p1                    2172 non-null category\n",
      "retweet_count         2172 non-null int64\n",
      "favorite_count        2172 non-null int64\n",
      "dtypes: category(2), int64(4), object(5)\n",
      "memory usage: 180.0+ KB\n"
     ]
    }
   ],
   "source": [
    "master_clean.info()"
   ]
  },
  {
   "cell_type": "markdown",
   "metadata": {},
   "source": [
    "#### Non-descriptive column names\n",
    "\n",
    "##### Define\n",
    "\n",
    "Change column names to descriptive ones\n",
    "\n",
    "##### Code"
   ]
  },
  {
   "cell_type": "code",
   "execution_count": 62,
   "metadata": {},
   "outputs": [],
   "source": [
    "master_clean.rename(columns={'timestamp':'date',\n",
    "                             'text':'tweet_text',\n",
    "                             'name':'dog_name',\n",
    "                             'jpg_url':'image_url',\n",
    "                             'p1':'dog_breed'}, inplace=True)"
   ]
  },
  {
   "cell_type": "markdown",
   "metadata": {},
   "source": [
    "##### Test"
   ]
  },
  {
   "cell_type": "code",
   "execution_count": 63,
   "metadata": {},
   "outputs": [
    {
     "name": "stdout",
     "output_type": "stream",
     "text": [
      "<class 'pandas.core.frame.DataFrame'>\n",
      "Int64Index: 2172 entries, 0 to 2171\n",
      "Data columns (total 11 columns):\n",
      "tweet_id              2172 non-null object\n",
      "date                  2172 non-null object\n",
      "tweet_text            2172 non-null object\n",
      "rating_numerator      2172 non-null int64\n",
      "rating_denominator    2172 non-null int64\n",
      "dog_name              2172 non-null object\n",
      "dog_stage             2172 non-null category\n",
      "image_url             2172 non-null object\n",
      "dog_breed             2172 non-null category\n",
      "retweet_count         2172 non-null int64\n",
      "favorite_count        2172 non-null int64\n",
      "dtypes: category(2), int64(4), object(5)\n",
      "memory usage: 180.0+ KB\n"
     ]
    }
   ],
   "source": [
    "master_clean.info()"
   ]
  },
  {
   "cell_type": "markdown",
   "metadata": {},
   "source": [
    "## Storing\n",
    "\n",
    "I store the clean dataset ready for analysis in a separate file."
   ]
  },
  {
   "cell_type": "code",
   "execution_count": 64,
   "metadata": {},
   "outputs": [],
   "source": [
    "master_clean.to_csv('twitter_archive_master.csv', index=False)"
   ]
  },
  {
   "cell_type": "markdown",
   "metadata": {},
   "source": [
    "## Analysis"
   ]
  },
  {
   "cell_type": "code",
   "execution_count": 65,
   "metadata": {},
   "outputs": [],
   "source": [
    "df = pd.read_csv('twitter_archive_master.csv', dtype={'tweet_id': object})"
   ]
  },
  {
   "cell_type": "code",
   "execution_count": 66,
   "metadata": {},
   "outputs": [
    {
     "data": {
      "text/html": [
       "<div>\n",
       "<style scoped>\n",
       "    .dataframe tbody tr th:only-of-type {\n",
       "        vertical-align: middle;\n",
       "    }\n",
       "\n",
       "    .dataframe tbody tr th {\n",
       "        vertical-align: top;\n",
       "    }\n",
       "\n",
       "    .dataframe thead th {\n",
       "        text-align: right;\n",
       "    }\n",
       "</style>\n",
       "<table border=\"1\" class=\"dataframe\">\n",
       "  <thead>\n",
       "    <tr style=\"text-align: right;\">\n",
       "      <th></th>\n",
       "      <th>tweet_id</th>\n",
       "      <th>date</th>\n",
       "      <th>tweet_text</th>\n",
       "      <th>rating_numerator</th>\n",
       "      <th>rating_denominator</th>\n",
       "      <th>dog_name</th>\n",
       "      <th>dog_stage</th>\n",
       "      <th>image_url</th>\n",
       "      <th>dog_breed</th>\n",
       "      <th>retweet_count</th>\n",
       "      <th>favorite_count</th>\n",
       "    </tr>\n",
       "  </thead>\n",
       "  <tbody>\n",
       "    <tr>\n",
       "      <th>224</th>\n",
       "      <td>842765311967449089</td>\n",
       "      <td>2017-03-17</td>\n",
       "      <td>Meet Indie. She's not a fan of baths but she's definitely a fan of hide &amp;amp; seek. 12/10 click the link to help Indie\\r\\n\\r\\nhttps://t.co/fvGkIuAlFK https://t.co/kiCFtmJd7l</td>\n",
       "      <td>12</td>\n",
       "      <td>10</td>\n",
       "      <td>Indie</td>\n",
       "      <td>None</td>\n",
       "      <td>None</td>\n",
       "      <td>None</td>\n",
       "      <td>1348</td>\n",
       "      <td>6995</td>\n",
       "    </tr>\n",
       "    <tr>\n",
       "      <th>635</th>\n",
       "      <td>774314403806253056</td>\n",
       "      <td>2016-09-09</td>\n",
       "      <td>I WAS SENT THE ACTUAL DOG IN THE PROFILE PIC BY HIS OWNER THIS IS SO WILD. 14/10 ULTIMATE LEGEND STATUS https://t.co/7oQ1wpfxIH</td>\n",
       "      <td>14</td>\n",
       "      <td>10</td>\n",
       "      <td>None</td>\n",
       "      <td>None</td>\n",
       "      <td>https://pbs.twimg.com/media/Cr7q1VxWIAA5Nm7.jpg</td>\n",
       "      <td>Eskimo_Dog</td>\n",
       "      <td>6020</td>\n",
       "      <td>23033</td>\n",
       "    </tr>\n",
       "  </tbody>\n",
       "</table>\n",
       "</div>"
      ],
      "text/plain": [
       "               tweet_id        date  \\\n",
       "224  842765311967449089  2017-03-17   \n",
       "635  774314403806253056  2016-09-09   \n",
       "\n",
       "                                                                                                                                                                        tweet_text  \\\n",
       "224  Meet Indie. She's not a fan of baths but she's definitely a fan of hide &amp; seek. 12/10 click the link to help Indie\\r\\n\\r\\nhttps://t.co/fvGkIuAlFK https://t.co/kiCFtmJd7l   \n",
       "635  I WAS SENT THE ACTUAL DOG IN THE PROFILE PIC BY HIS OWNER THIS IS SO WILD. 14/10 ULTIMATE LEGEND STATUS https://t.co/7oQ1wpfxIH                                                 \n",
       "\n",
       "     rating_numerator  rating_denominator dog_name dog_stage  \\\n",
       "224  12                10                  Indie    None       \n",
       "635  14                10                  None     None       \n",
       "\n",
       "                                           image_url   dog_breed  \\\n",
       "224  None                                             None         \n",
       "635  https://pbs.twimg.com/media/Cr7q1VxWIAA5Nm7.jpg  Eskimo_Dog   \n",
       "\n",
       "     retweet_count  favorite_count  \n",
       "224  1348           6995            \n",
       "635  6020           23033           "
      ]
     },
     "execution_count": 66,
     "metadata": {},
     "output_type": "execute_result"
    }
   ],
   "source": [
    "pd.set_option('display.max_colwidth', -1)\n",
    "df.sample(2)"
   ]
  },
  {
   "cell_type": "code",
   "execution_count": 67,
   "metadata": {},
   "outputs": [
    {
     "name": "stdout",
     "output_type": "stream",
     "text": [
      "<class 'pandas.core.frame.DataFrame'>\n",
      "RangeIndex: 2172 entries, 0 to 2171\n",
      "Data columns (total 11 columns):\n",
      "tweet_id              2172 non-null object\n",
      "date                  2172 non-null object\n",
      "tweet_text            2172 non-null object\n",
      "rating_numerator      2172 non-null int64\n",
      "rating_denominator    2172 non-null int64\n",
      "dog_name              2172 non-null object\n",
      "dog_stage             2172 non-null object\n",
      "image_url             2172 non-null object\n",
      "dog_breed             2172 non-null object\n",
      "retweet_count         2172 non-null int64\n",
      "favorite_count        2172 non-null int64\n",
      "dtypes: int64(4), object(7)\n",
      "memory usage: 186.7+ KB\n"
     ]
    }
   ],
   "source": [
    "df.info()"
   ]
  },
  {
   "cell_type": "code",
   "execution_count": 68,
   "metadata": {},
   "outputs": [
    {
     "name": "stdout",
     "output_type": "stream",
     "text": [
      "Earliest tweet: 2015-11-15\n",
      "Latest tweet: 2017-08-01\n"
     ]
    }
   ],
   "source": [
    "print('Earliest tweet: {}\\nLatest tweet: {}'.format(df.date.min(), df.date.max()))"
   ]
  },
  {
   "cell_type": "markdown",
   "metadata": {},
   "source": [
    "The dataset contains information about one thousand tweets ranging almost two years in time. I would like to see if there is any trend in the amount of favorites and retweets."
   ]
  },
  {
   "cell_type": "code",
   "execution_count": 69,
   "metadata": {},
   "outputs": [
    {
     "data": {
      "image/png": "[encoded data removed]",
      "text/plain": [
       "<Figure size 432x288 with 1 Axes>"
      ]
     },
     "metadata": {},
     "output_type": "display_data"
    }
   ],
   "source": [
    "df.groupby('date')['favorite_count'].mean().plot(label='favorites')\n",
    "df.groupby('date')['retweet_count'].mean().plot(label='retweets')\n",
    "plt.title('Mean favorite and retweet counts per day')\n",
    "plt.ylim(0, 80000)\n",
    "plt.legend()\n",
    "plt.xlabel('Date')\n",
    "plt.ylabel('Mean count')\n",
    "plt.savefig('meanfavcount_day.png', dpi=300, bbox_inches='tight');"
   ]
  },
  {
   "cell_type": "code",
   "execution_count": 70,
   "metadata": {},
   "outputs": [
    {
     "data": {
      "image/png": "[encoded data removed]",
      "text/plain": [
       "<Figure size 432x288 with 1 Axes>"
      ]
     },
     "metadata": {},
     "output_type": "display_data"
    }
   ],
   "source": [
    "df.groupby('date')['tweet_id'].count().plot()\n",
    "plt.title('Tweets per day')\n",
    "plt.xlabel('Date')\n",
    "plt.ylabel('Tweets');"
   ]
  },
  {
   "cell_type": "markdown",
   "metadata": {},
   "source": [
    "There seems to be a steady growth in the popularity of the account during 2016 and 2017, while the amont of tweets per day stayed constant or decreased."
   ]
  },
  {
   "cell_type": "markdown",
   "metadata": {},
   "source": [
    "I want to see a summary of the numerical variables, particularly the rating numerator and denominator which are a key element of the popularity of this Twitter account."
   ]
  },
  {
   "cell_type": "code",
   "execution_count": 71,
   "metadata": {},
   "outputs": [
    {
     "data": {
      "text/html": [
       "<div>\n",
       "<style scoped>\n",
       "    .dataframe tbody tr th:only-of-type {\n",
       "        vertical-align: middle;\n",
       "    }\n",
       "\n",
       "    .dataframe tbody tr th {\n",
       "        vertical-align: top;\n",
       "    }\n",
       "\n",
       "    .dataframe thead th {\n",
       "        text-align: right;\n",
       "    }\n",
       "</style>\n",
       "<table border=\"1\" class=\"dataframe\">\n",
       "  <thead>\n",
       "    <tr style=\"text-align: right;\">\n",
       "      <th></th>\n",
       "      <th>rating_numerator</th>\n",
       "      <th>rating_denominator</th>\n",
       "      <th>retweet_count</th>\n",
       "      <th>favorite_count</th>\n",
       "    </tr>\n",
       "  </thead>\n",
       "  <tbody>\n",
       "    <tr>\n",
       "      <th>count</th>\n",
       "      <td>2172.000000</td>\n",
       "      <td>2172.000000</td>\n",
       "      <td>2172.000000</td>\n",
       "      <td>2172.000000</td>\n",
       "    </tr>\n",
       "    <tr>\n",
       "      <th>mean</th>\n",
       "      <td>13.217311</td>\n",
       "      <td>10.493554</td>\n",
       "      <td>2621.489411</td>\n",
       "      <td>8516.618785</td>\n",
       "    </tr>\n",
       "    <tr>\n",
       "      <th>std</th>\n",
       "      <td>47.758603</td>\n",
       "      <td>7.023908</td>\n",
       "      <td>4652.964032</td>\n",
       "      <td>12514.816046</td>\n",
       "    </tr>\n",
       "    <tr>\n",
       "      <th>min</th>\n",
       "      <td>0.000000</td>\n",
       "      <td>0.000000</td>\n",
       "      <td>0.000000</td>\n",
       "      <td>51.000000</td>\n",
       "    </tr>\n",
       "    <tr>\n",
       "      <th>25%</th>\n",
       "      <td>10.000000</td>\n",
       "      <td>10.000000</td>\n",
       "      <td>565.500000</td>\n",
       "      <td>1805.750000</td>\n",
       "    </tr>\n",
       "    <tr>\n",
       "      <th>50%</th>\n",
       "      <td>11.000000</td>\n",
       "      <td>10.000000</td>\n",
       "      <td>1252.000000</td>\n",
       "      <td>3843.500000</td>\n",
       "    </tr>\n",
       "    <tr>\n",
       "      <th>75%</th>\n",
       "      <td>12.000000</td>\n",
       "      <td>10.000000</td>\n",
       "      <td>2984.000000</td>\n",
       "      <td>10592.750000</td>\n",
       "    </tr>\n",
       "    <tr>\n",
       "      <th>max</th>\n",
       "      <td>1776.000000</td>\n",
       "      <td>170.000000</td>\n",
       "      <td>83081.000000</td>\n",
       "      <td>163378.000000</td>\n",
       "    </tr>\n",
       "  </tbody>\n",
       "</table>\n",
       "</div>"
      ],
      "text/plain": [
       "       rating_numerator  rating_denominator  retweet_count  favorite_count\n",
       "count  2172.000000       2172.000000         2172.000000    2172.000000   \n",
       "mean   13.217311         10.493554           2621.489411    8516.618785   \n",
       "std    47.758603         7.023908            4652.964032    12514.816046  \n",
       "min    0.000000          0.000000            0.000000       51.000000     \n",
       "25%    10.000000         10.000000           565.500000     1805.750000   \n",
       "50%    11.000000         10.000000           1252.000000    3843.500000   \n",
       "75%    12.000000         10.000000           2984.000000    10592.750000  \n",
       "max    1776.000000       170.000000          83081.000000   163378.000000 "
      ]
     },
     "execution_count": 71,
     "metadata": {},
     "output_type": "execute_result"
    }
   ],
   "source": [
    "df.describe()"
   ]
  },
  {
   "cell_type": "markdown",
   "metadata": {},
   "source": [
    "The summary shows that, while the most common values for both numerator and denominator seems to be 10, the mean numerator is slightly higher than the denominator which is one of the recognisable features of tweets by @dog_rates.\n",
    "\n",
    "It is also apparent that retweets are less common than favorites."
   ]
  },
  {
   "cell_type": "code",
   "execution_count": 72,
   "metadata": {},
   "outputs": [
    {
     "data": {
      "text/plain": [
       "None                    1828\n",
       "pupper                  224 \n",
       "doggo                   77  \n",
       "puppo                   24  \n",
       "a doggo and a pupper    10  \n",
       "floofer                 9   \n",
       "Name: dog_stage, dtype: int64"
      ]
     },
     "execution_count": 72,
     "metadata": {},
     "output_type": "execute_result"
    }
   ],
   "source": [
    "df.dog_stage.value_counts()"
   ]
  },
  {
   "cell_type": "code",
   "execution_count": 73,
   "metadata": {},
   "outputs": [
    {
     "data": {
      "image/png": "[encoded data removed]",
      "text/plain": [
       "<Figure size 432x288 with 1 Axes>"
      ]
     },
     "metadata": {},
     "output_type": "display_data"
    }
   ],
   "source": [
    "sns.boxplot(x='dog_stage', y='favorite_count', data=df)\n",
    "plt.ylim(0, 60000)\n",
    "title_string = 'Distribution of favorite counts by \"dog stage\" described in tweet'\n",
    "subtitle_string = 'Axis limited to exclude outliers above 60,000 Favorites'\n",
    "plt.suptitle(title_string, y=1.02, fontsize=12)\n",
    "plt.title(subtitle_string, fontsize=9)\n",
    "plt.xlabel('Dog stage')\n",
    "plt.ylabel('Favorite count')\n",
    "plt.xticks(rotation=35)\n",
    "plt.savefig('favcount_stage.png', dpi=300, bbox_inches='tight');"
   ]
  },
  {
   "cell_type": "code",
   "execution_count": 74,
   "metadata": {},
   "outputs": [
    {
     "data": {
      "text/plain": [
       "Golden_Retriever      125\n",
       "Pembroke              83 \n",
       "Labrador_Retriever    83 \n",
       "Chihuahua             63 \n",
       "Pug                   51 \n",
       "Pomeranian            36 \n",
       "Samoyed               35 \n",
       "Toy_Poodle            34 \n",
       "Chow                  32 \n",
       "Name: dog_breed, dtype: int64"
      ]
     },
     "execution_count": 74,
     "metadata": {},
     "output_type": "execute_result"
    }
   ],
   "source": [
    "top_breeds = [x for x in df.dog_breed.value_counts().keys() if df.dog_breed.value_counts()[x] > 30]\n",
    "df_top_breeds = df[df.dog_breed!='None']\n",
    "df_top_breeds = df_top_breeds[df_top_breeds.dog_breed.isin(top_breeds)]\n",
    "df_top_breeds.dog_breed.value_counts()"
   ]
  },
  {
   "cell_type": "code",
   "execution_count": 75,
   "metadata": {},
   "outputs": [
    {
     "data": {
      "image/png": "[encoded data removed]",
      "text/plain": [
       "<Figure size 432x288 with 1 Axes>"
      ]
     },
     "metadata": {},
     "output_type": "display_data"
    }
   ],
   "source": [
    "df_top_breeds = df[df.dog_breed!='None']\n",
    "df_top_breeds = df_top_breeds[df_top_breeds.dog_breed.isin(top_breeds)]\n",
    "sns.boxplot(x='dog_breed', y='favorite_count', data=df_top_breeds)\n",
    "plt.ylim(0, 40000)\n",
    "plt.xticks(rotation=39)\n",
    "plt.xlabel('Breed')\n",
    "plt.ylabel('Favorite count')\n",
    "title_string = 'Distribution of favorites by most common identified dog breeds'\n",
    "subtitle_string = 'Axis limited to exclude outliers above 40,000 Favorites'\n",
    "plt.suptitle(title_string, y=1.02, fontsize=12)\n",
    "plt.title(subtitle_string, fontsize=9)\n",
    "plt.savefig('favcount_breed.png', dpi=300, bbox_inches='tight');"
   ]
  },
  {
   "cell_type": "markdown",
   "metadata": {},
   "source": [
    "#### Insights\n",
    "\n",
    "1. While the amount of tweets per day stayed constant or slightly decreased, the mean number of retweets and especially favorites per day steadily increased throughout the period with available data. Favorites more common than retweets, with the median and maximum values reaching around 1,200 and 83,000 in the case of retweets, and 3,800 and 163,000 in the case of favorites.\n",
    "\n",
    "\n",
    "2. The ratings' denominator is almost always 10, and the numerator is most often between 10 and 12, but both go higher than these values sometimes. This characteristic rating style is always present in the humorous tweets of this account and is one of the reasons for its popularity.\n",
    "\n",
    "\n",
    "3. Among the tweets explicitly mentioning the \"dog stage\", those sharing pictures of a \"pupper\"(baby dog) are most common but the medians of the favorite counts for \"doggos\"(adult dogs) and \"puppos\"(teenage dogs) are more than twice as high as those of \"puppers\". The median favorite count for tweets that don't mention the dog's developmental stage is also significantly lower than those of \"doggos\" and \"puppos\", but similar to the one for \"puppers\". This may suggest that the words \"doggo\" and \"puppo\" are reserved for pictures that are funnier or more memorable than average.\n",
    "\n",
    "\n",
    "4. From the 2172 tweets, in 1264 cases the dog's breed could be predicted with a confidence of at least 33%, the median confidence level for these predictions being above 70%. Among the most common dog breeds as identified in these predictions, the breed with the highest median favorite count is the Golden Retriever, with a median favorite count of 8,000 which is around double that of Chihuahuas, Pomeranians and Pugs, however there are cases of tweets with pictures of all these breeds achieving favorite counts of 30,000 and above. Samoyeds, though being far less represented than Golden Retrievers (35 pictures of Samoyeds vs 125 pictures of Golden Retrievers), have the second highest median favorite count."
   ]
  }
 ],
 "metadata": {
  "kernelspec": {
   "display_name": "Python [conda env:Anaconda3]",
   "language": "python",
   "name": "conda-env-Anaconda3-py"
  },
  "language_info": {
   "codemirror_mode": {
    "name": "ipython",
    "version": 3
   },
   "file_extension": ".py",
   "mimetype": "text/x-python",
   "name": "python",
   "nbconvert_exporter": "python",
   "pygments_lexer": "ipython3",
   "version": "3.6.6"
  }
 },
 "nbformat": 4,
 "nbformat_minor": 2
}
